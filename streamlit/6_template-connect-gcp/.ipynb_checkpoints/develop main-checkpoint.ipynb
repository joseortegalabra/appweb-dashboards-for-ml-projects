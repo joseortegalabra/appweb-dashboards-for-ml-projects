{
 "cells": [
  {
   "cell_type": "code",
   "execution_count": 1,
   "id": "f84c5c02-cecd-4d99-9cd9-1e1941bec34f",
   "metadata": {},
   "outputs": [],
   "source": [
    "import streamlit as st\n",
    "from google.cloud import bigquery\n",
    "import pandas as pd\n",
    "import os\n",
    "from dotenv import load_dotenv"
   ]
  },
  {
   "cell_type": "code",
   "execution_count": 2,
   "id": "62d5edc2-714f-41a9-91fa-d6689c1b9a92",
   "metadata": {},
   "outputs": [],
   "source": [
    "# READ ENV VARIABLES - CREDENTIALS TO CONNECT TO BQ\n",
    "load_dotenv()\n",
    "env_var_project_gcp = os.environ.get(\"PROJECT_GCP\", \"\")\n",
    "env_var_path_sa = os.environ.get(\"PATH_SA\", \"\")\n",
    "\n",
    "PROJECT_ID = env_var_project_gcp\n",
    "os.environ['GOOGLE_APPLICATION_CREDENTIALS'] = env_var_path_sa"
   ]
  },
  {
   "cell_type": "code",
   "execution_count": 3,
   "id": "af2269ec-754b-4856-8fad-b0cc4378ac91",
   "metadata": {},
   "outputs": [
    {
     "data": {
      "text/plain": [
       "'sa-gcp-ds-mvp.json'"
      ]
     },
     "execution_count": 3,
     "metadata": {},
     "output_type": "execute_result"
    }
   ],
   "source": [
    "env_var_path_sa"
   ]
  },
  {
   "cell_type": "code",
   "execution_count": 4,
   "id": "5e37a2f9-fdb3-42e5-b701-ea02c78ee0fe",
   "metadata": {},
   "outputs": [],
   "source": [
    "########### read table from bq\n",
    "def get_dataframe_from_bq():\n",
    "    '''\n",
    "    Obtener un dataframe desde una consulta SQL a una tabla de Bigquery\n",
    "    Dataframe que va a ser mostrado en el front de una app web\n",
    "    '''\n",
    "\n",
    "    #query\n",
    "    query_sql = '''\n",
    "    SELECT * \n",
    "    FROM `cmpc-innovation-cd4ml-test.dataset_for_tests.table_1`\n",
    "    ORDER BY date DESC\n",
    "    '''\n",
    "\n",
    "    # consultar\n",
    "    client = bigquery.Client(project = PROJECT_ID)\n",
    "    df = client.query(query_sql).to_dataframe()\n",
    "\n",
    "    return df"
   ]
  },
  {
   "cell_type": "code",
   "execution_count": 5,
   "id": "565dfeef-2ebb-41f9-935d-e86f7a98afb3",
   "metadata": {},
   "outputs": [],
   "source": [
    "# read table bq\n",
    "df_table = get_dataframe_from_bq()"
   ]
  },
  {
   "cell_type": "code",
   "execution_count": 6,
   "id": "2dced1b4-f6ae-4cd2-a2de-f19c760a61fb",
   "metadata": {},
   "outputs": [
    {
     "data": {
      "text/html": [
       "<div>\n",
       "<style scoped>\n",
       "    .dataframe tbody tr th:only-of-type {\n",
       "        vertical-align: middle;\n",
       "    }\n",
       "\n",
       "    .dataframe tbody tr th {\n",
       "        vertical-align: top;\n",
       "    }\n",
       "\n",
       "    .dataframe thead th {\n",
       "        text-align: right;\n",
       "    }\n",
       "</style>\n",
       "<table border=\"1\" class=\"dataframe\">\n",
       "  <thead>\n",
       "    <tr style=\"text-align: right;\">\n",
       "      <th></th>\n",
       "      <th>date</th>\n",
       "      <th>Target</th>\n",
       "    </tr>\n",
       "  </thead>\n",
       "  <tbody>\n",
       "    <tr>\n",
       "      <th>0</th>\n",
       "      <td>2022-08-11 00:00:00+00:00</td>\n",
       "      <td>11</td>\n",
       "    </tr>\n",
       "    <tr>\n",
       "      <th>1</th>\n",
       "      <td>2022-08-10 00:00:00+00:00</td>\n",
       "      <td>100</td>\n",
       "    </tr>\n",
       "    <tr>\n",
       "      <th>2</th>\n",
       "      <td>2022-08-09 00:00:00+00:00</td>\n",
       "      <td>40</td>\n",
       "    </tr>\n",
       "    <tr>\n",
       "      <th>3</th>\n",
       "      <td>2022-08-08 00:00:00+00:00</td>\n",
       "      <td>25</td>\n",
       "    </tr>\n",
       "    <tr>\n",
       "      <th>4</th>\n",
       "      <td>2022-08-07 00:00:00+00:00</td>\n",
       "      <td>17</td>\n",
       "    </tr>\n",
       "    <tr>\n",
       "      <th>5</th>\n",
       "      <td>2022-08-06 00:00:00+00:00</td>\n",
       "      <td>16</td>\n",
       "    </tr>\n",
       "    <tr>\n",
       "      <th>6</th>\n",
       "      <td>2022-08-05 00:00:00+00:00</td>\n",
       "      <td>16</td>\n",
       "    </tr>\n",
       "    <tr>\n",
       "      <th>7</th>\n",
       "      <td>2022-08-04 00:00:00+00:00</td>\n",
       "      <td>15</td>\n",
       "    </tr>\n",
       "    <tr>\n",
       "      <th>8</th>\n",
       "      <td>2022-08-03 00:00:00+00:00</td>\n",
       "      <td>15</td>\n",
       "    </tr>\n",
       "    <tr>\n",
       "      <th>9</th>\n",
       "      <td>2022-08-02 00:00:00+00:00</td>\n",
       "      <td>6</td>\n",
       "    </tr>\n",
       "    <tr>\n",
       "      <th>10</th>\n",
       "      <td>2022-08-01 00:00:00+00:00</td>\n",
       "      <td>7</td>\n",
       "    </tr>\n",
       "    <tr>\n",
       "      <th>11</th>\n",
       "      <td>2022-07-31 00:00:00+00:00</td>\n",
       "      <td>8</td>\n",
       "    </tr>\n",
       "    <tr>\n",
       "      <th>12</th>\n",
       "      <td>2022-07-30 00:00:00+00:00</td>\n",
       "      <td>9</td>\n",
       "    </tr>\n",
       "    <tr>\n",
       "      <th>13</th>\n",
       "      <td>2022-07-29 00:00:00+00:00</td>\n",
       "      <td>14</td>\n",
       "    </tr>\n",
       "  </tbody>\n",
       "</table>\n",
       "</div>"
      ],
      "text/plain": [
       "                        date  Target\n",
       "0  2022-08-11 00:00:00+00:00      11\n",
       "1  2022-08-10 00:00:00+00:00     100\n",
       "2  2022-08-09 00:00:00+00:00      40\n",
       "3  2022-08-08 00:00:00+00:00      25\n",
       "4  2022-08-07 00:00:00+00:00      17\n",
       "5  2022-08-06 00:00:00+00:00      16\n",
       "6  2022-08-05 00:00:00+00:00      16\n",
       "7  2022-08-04 00:00:00+00:00      15\n",
       "8  2022-08-03 00:00:00+00:00      15\n",
       "9  2022-08-02 00:00:00+00:00       6\n",
       "10 2022-08-01 00:00:00+00:00       7\n",
       "11 2022-07-31 00:00:00+00:00       8\n",
       "12 2022-07-30 00:00:00+00:00       9\n",
       "13 2022-07-29 00:00:00+00:00      14"
      ]
     },
     "execution_count": 6,
     "metadata": {},
     "output_type": "execute_result"
    }
   ],
   "source": [
    "df_table"
   ]
  },
  {
   "cell_type": "code",
   "execution_count": null,
   "id": "9471469e-6166-4cb8-97a5-850ac32c07aa",
   "metadata": {},
   "outputs": [],
   "source": []
  }
 ],
 "metadata": {
  "kernelspec": {
   "display_name": "Python 3 (ipykernel)",
   "language": "python",
   "name": "python3"
  },
  "language_info": {
   "codemirror_mode": {
    "name": "ipython",
    "version": 3
   },
   "file_extension": ".py",
   "mimetype": "text/x-python",
   "name": "python",
   "nbconvert_exporter": "python",
   "pygments_lexer": "ipython3",
   "version": "3.10.12"
  }
 },
 "nbformat": 4,
 "nbformat_minor": 5
}
