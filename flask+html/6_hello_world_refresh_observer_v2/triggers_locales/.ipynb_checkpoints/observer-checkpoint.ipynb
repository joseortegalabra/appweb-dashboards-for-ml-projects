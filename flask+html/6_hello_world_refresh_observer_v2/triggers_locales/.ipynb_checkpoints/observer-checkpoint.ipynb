{
 "cells": [
  {
   "cell_type": "markdown",
   "id": "4e1a6ac9",
   "metadata": {},
   "source": [
    "# OBSERVER\n",
    "\n",
    "El observer que se va a consultar va a una tabla de bigquery, específicamente la tabla **\"param_tracking_update\"** que contiene únicamente la fecha de la última actualización de los datos (por lo que el costo de consulta es muy bajo) y se va a consultar constamente y comparar el valor de la fecha de actualización del backend con la fecha guardada en la API.\n",
    "\n",
    "Luego si las fechas son distintas se va a proceder a actualizar toda la app web, volviendo a ejecutar la API y llendo a buscar los datos actualizados"
   ]
  },
  {
   "cell_type": "code",
   "execution_count": 1,
   "id": "8a07cd44",
   "metadata": {},
   "outputs": [],
   "source": [
    "from google.cloud import bigquery\n",
    "import datetime as dt\n",
    "import pandas as pd"
   ]
  },
  {
   "cell_type": "code",
   "execution_count": null,
   "id": "aabb68fe",
   "metadata": {},
   "outputs": [],
   "source": []
  },
  {
   "cell_type": "markdown",
   "id": "a68a8e2e",
   "metadata": {},
   "source": [
    "### LEER TABLA EXCEL DE PARÁMETROS Y SUBIRSE A BIGQUERY \n",
    "(en prod se va actualizando la tabla de bq con una cf)"
   ]
  },
  {
   "cell_type": "code",
   "execution_count": 2,
   "id": "f12b02de",
   "metadata": {},
   "outputs": [],
   "source": [
    "# parámetros tabla bigquery\n",
    "PROJECT_ID_DS = 'cmpc-innovation-cd4ml-test'\n",
    "DATASET_ID_DS = '6_hello_world_refresh_observer'\n",
    "name_table_bq = '_param_tracking_update'"
   ]
  },
  {
   "cell_type": "code",
   "execution_count": 3,
   "id": "e18e67fb",
   "metadata": {},
   "outputs": [
    {
     "data": {
      "text/html": [
       "<div>\n",
       "<style scoped>\n",
       "    .dataframe tbody tr th:only-of-type {\n",
       "        vertical-align: middle;\n",
       "    }\n",
       "\n",
       "    .dataframe tbody tr th {\n",
       "        vertical-align: top;\n",
       "    }\n",
       "\n",
       "    .dataframe thead th {\n",
       "        text-align: right;\n",
       "    }\n",
       "</style>\n",
       "<table border=\"1\" class=\"dataframe\">\n",
       "  <thead>\n",
       "    <tr style=\"text-align: right;\">\n",
       "      <th></th>\n",
       "      <th>datetime_ingreso</th>\n",
       "      <th>ultima_actualizacion</th>\n",
       "      <th>penultima_actualizacion</th>\n",
       "      <th>freq_update_value</th>\n",
       "      <th>freq_update_time</th>\n",
       "    </tr>\n",
       "  </thead>\n",
       "  <tbody>\n",
       "    <tr>\n",
       "      <th>0</th>\n",
       "      <td>19-04-2022  17:00:00</td>\n",
       "      <td>2023-01-05 17:30:00</td>\n",
       "      <td>2023-01-05 13:30:00</td>\n",
       "      <td>30</td>\n",
       "      <td>min</td>\n",
       "    </tr>\n",
       "  </tbody>\n",
       "</table>\n",
       "</div>"
      ],
      "text/plain": [
       "       datetime_ingreso ultima_actualizacion penultima_actualizacion  \\\n",
       "0  19-04-2022  17:00:00  2023-01-05 17:30:00     2023-01-05 13:30:00   \n",
       "\n",
       "   freq_update_value freq_update_time  \n",
       "0                 30              min  "
      ]
     },
     "execution_count": 3,
     "metadata": {},
     "output_type": "execute_result"
    }
   ],
   "source": [
    "# leer excel\n",
    "path_data_local = 'tracking_update.xlsx'\n",
    "data = pd.read_excel(path_data_local)\n",
    "data"
   ]
  },
  {
   "cell_type": "code",
   "execution_count": null,
   "id": "0fc87889",
   "metadata": {},
   "outputs": [],
   "source": []
  },
  {
   "cell_type": "code",
   "execution_count": 50,
   "id": "0196b905",
   "metadata": {},
   "outputs": [],
   "source": [
    "# modificar fecha por en el codigo\n",
    "data['ultima_actualizacion'] = '2023-01-07 17:00:00'"
   ]
  },
  {
   "cell_type": "code",
   "execution_count": null,
   "id": "2f9d18af",
   "metadata": {},
   "outputs": [],
   "source": []
  },
  {
   "cell_type": "code",
   "execution_count": 51,
   "id": "b64a4d5b",
   "metadata": {},
   "outputs": [],
   "source": [
    "# subir dataframe a bigquery - replace tabla existente\n",
    "data.to_gbq(destination_table = DATASET_ID_DS + '.' + name_table_bq,\n",
    "            project_id = PROJECT_ID_DS, \n",
    "            if_exists = 'replace'\n",
    "           )"
   ]
  },
  {
   "cell_type": "code",
   "execution_count": null,
   "id": "0d9e306e",
   "metadata": {},
   "outputs": [],
   "source": []
  },
  {
   "cell_type": "code",
   "execution_count": null,
   "id": "ff6be48d",
   "metadata": {},
   "outputs": [],
   "source": []
  },
  {
   "cell_type": "code",
   "execution_count": null,
   "id": "3fec9a78",
   "metadata": {},
   "outputs": [],
   "source": []
  },
  {
   "cell_type": "code",
   "execution_count": null,
   "id": "192bd098",
   "metadata": {},
   "outputs": [],
   "source": []
  }
 ],
 "metadata": {
  "kernelspec": {
   "display_name": "Python 3 (ipykernel)",
   "language": "python",
   "name": "python3"
  },
  "language_info": {
   "codemirror_mode": {
    "name": "ipython",
    "version": 3
   },
   "file_extension": ".py",
   "mimetype": "text/x-python",
   "name": "python",
   "nbconvert_exporter": "python",
   "pygments_lexer": "ipython3",
   "version": "3.8.13"
  }
 },
 "nbformat": 4,
 "nbformat_minor": 5
}
