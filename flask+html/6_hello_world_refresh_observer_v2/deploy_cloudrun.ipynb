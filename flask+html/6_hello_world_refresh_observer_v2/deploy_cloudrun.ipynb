{
 "cells": [
  {
   "cell_type": "markdown",
   "id": "6e1ce3c5",
   "metadata": {},
   "source": [
    "## Upload artifact registry\n",
    "Estos códigos se podrían correr en la consola SDK de google, así como correrlos en un notebook.\n",
    "Para un data scientist poco especializado en prácticas de devops, utilizar un notebook es más inuitivo de utilizar\n",
    "\n",
    "##### Pasos previos\n",
    "- Pararse en la carpeta root de la app (crear este notebook en el root)\n",
    "- Tener creados scripts a contenizar y subirse a cloud run\n",
    "\n",
    "\n",
    "revisar este punto\n",
    "- Crear Dockerfile en el root (un ejemplo de Dockerfile se puede encontrar en: https://firebase.google.com/docs/hosting/cloud-run?hl=es-419#python)"
   ]
  },
  {
   "cell_type": "markdown",
   "id": "666f36e8",
   "metadata": {},
   "source": [
    "##### Estructura Notebook Deploy app web\n",
    "Existen dos métodos para hacer el deploy, almacenar la imagen docker en artifact registry (forma actual) y almacenar la imagen en container registry (forma antigua y cada vez más deprecated). En este Notebook por ser el primer y el de ejemplo se va a hacer el deploy de ambas formas primero en artifact registry y posteriormente en container registry"
   ]
  },
  {
   "cell_type": "code",
   "execution_count": null,
   "id": "837c5998",
   "metadata": {},
   "outputs": [],
   "source": []
  },
  {
   "cell_type": "code",
   "execution_count": null,
   "id": "646304fb",
   "metadata": {},
   "outputs": [],
   "source": []
  },
  {
   "cell_type": "markdown",
   "id": "0bf9ae26",
   "metadata": {},
   "source": [
    "## INICIALIZAR: SET PROYECT GCP\n",
    "\n",
    "**Para correr comando de consola en un jupyter notebook y que además se le puedan pasar variables del notebook al comando se debe utilizar el signo peso ($) y no utilizar el comando de asignación (=)**"
   ]
  },
  {
   "cell_type": "code",
   "execution_count": null,
   "id": "9bcfc7df",
   "metadata": {},
   "outputs": [],
   "source": [
    "import os\n",
    "from dotenv import load_dotenv, find_dotenv # package used in jupyter notebook to read the variables in file .env\n",
    "\n",
    "\"\"\" get env variable from .env \"\"\"\n",
    "load_dotenv(find_dotenv())\n",
    "\n",
    "\"\"\" Read env variables \"\"\"\n",
    "env_var_project_gcp = os.environ.get(\"PROJECT_GCP\", \"\")\n",
    "\n",
    "# SET SERVICE ACCOUNT GCP AND PROJECT\n",
    "PROJECT_ID = env_var_project_gcp"
   ]
  },
  {
   "cell_type": "code",
   "execution_count": 1,
   "id": "0f6518dd",
   "metadata": {},
   "outputs": [
    {
     "name": "stderr",
     "output_type": "stream",
     "text": [
      "Updated property [core/project].\n"
     ]
    }
   ],
   "source": [
    "REGION = 'us-east1'\n",
    "! gcloud config set project $PROJECT_ID"
   ]
  },
  {
   "cell_type": "code",
   "execution_count": null,
   "id": "c7e91a05",
   "metadata": {},
   "outputs": [],
   "source": []
  },
  {
   "cell_type": "code",
   "execution_count": null,
   "id": "e0591b9d",
   "metadata": {},
   "outputs": [],
   "source": []
  },
  {
   "cell_type": "markdown",
   "id": "62e1c63e",
   "metadata": {},
   "source": [
    "## ------- ARTIFACT REGISTRY -------"
   ]
  },
  {
   "cell_type": "markdown",
   "id": "0fd2ce87",
   "metadata": {},
   "source": [
    "Artifact registry es el reemplazo de container registry y el recomendado por google. La única diferencia es que se guarda la imagen en este nuevo servicio y se necesita correr otros comando\n",
    "\n",
    "\n",
    "Además, cada vez que se sube una imagen nueva a artifact registry (volver a ejecutar el comando correspondiente de gcloud), esta recibe la etiqueta latest y es la que se utiliza para crear/actualizar la cloud run creada\n",
    "\n",
    "Subir la imagen a artifact Registry requiere más pasos que subirla a container registry\n",
    "\n",
    "Documentación integración cloud build con Artifact Registry: https://cloud.google.com/artifact-registry/docs/configure-cloud-build?hl=es-419"
   ]
  },
  {
   "cell_type": "code",
   "execution_count": null,
   "id": "eb1b6f98",
   "metadata": {},
   "outputs": [],
   "source": []
  },
  {
   "cell_type": "markdown",
   "id": "6c45b9db",
   "metadata": {},
   "source": [
    "### Paso 0: Parámetros"
   ]
  },
  {
   "cell_type": "code",
   "execution_count": 2,
   "id": "03167e8a",
   "metadata": {},
   "outputs": [],
   "source": [
    "# PARÁMETROS \n",
    "\n",
    "# generales gcp\n",
    "REGION = 'us-east1'\n",
    "\n",
    "# nombre del repo\n",
    "NAME_REPO = 'repo-app-web-6-hello-world-refresh-event-observer-bq-v2'\n",
    "FORMAT_REPO = 'docker'\n",
    "DESCRIPTION_REPO = \"repo web app 6 hello world refresh event observer bq v2 socketio\"\n",
    "\n",
    "# nombre de la imagen\n",
    "NAME_IMAGE = '6-hello-world-refresh-event-observer-bq-v2'\n",
    "\n",
    "# nombre del cloud run que va a alojar la app web\n",
    "NAME_CLOUD_RUN = 'app-web-6-hello-world-refresh-event-observer-bq-v2'"
   ]
  },
  {
   "cell_type": "code",
   "execution_count": null,
   "id": "421fc138",
   "metadata": {},
   "outputs": [],
   "source": []
  },
  {
   "cell_type": "markdown",
   "id": "5526c44e",
   "metadata": {},
   "source": [
    "### Paso 1. Crear repositorio en artifact registry (si es que este no existe)\n",
    "A diferencia de container registry que era automática, en artifact registry hay que crearlo.\n",
    "\n",
    "En container registry solo se creaba una imagen y se almacenaban diferentes versiones de la imagen, por el contrario en artifact registry se crea un repo el cual puede tener múltiples imágenes y cada una tener diferentes versiones\n",
    "\n",
    "\n",
    "Documentación: crear repo en artifact registry: https://cloud.google.com/artifact-registry/docs/repositories/create-repos#gcloud"
   ]
  },
  {
   "cell_type": "code",
   "execution_count": 3,
   "id": "ceae1f29",
   "metadata": {},
   "outputs": [
    {
     "name": "stderr",
     "output_type": "stream",
     "text": [
      "ERROR: (gcloud.artifacts.repositories.create) ALREADY_EXISTS: the repository already exists\n"
     ]
    }
   ],
   "source": [
    "# crear repo\n",
    "! gcloud artifacts repositories create $NAME_REPO \\\n",
    "--repository-format $FORMAT_REPO \\\n",
    "--location $REGION \\\n",
    "--description \"$DESCRIPTION_REPO\" \\\n",
    "--async"
   ]
  },
  {
   "cell_type": "code",
   "execution_count": null,
   "id": "d8ab2428",
   "metadata": {},
   "outputs": [],
   "source": []
  },
  {
   "cell_type": "markdown",
   "id": "b2f594f3",
   "metadata": {},
   "source": [
    "### Paso 2: Configurar una compilación de Docker\n",
    "\n",
    "Es necesario crear un **yaml** con la configuración para compilar la imagen docker en Artifact Registry.\n",
    "\n",
    "Tiene la siguiente forma\n",
    "\n",
    "<code>\n",
    "steps:\n",
    "- name: 'gcr.io/cloud-builders/docker'\n",
    "  args: [ 'build', '-t', '${_LOCATION}-docker.pkg.dev/$PROJECT_ID/${_REPOSITORY}/${_IMAGE}', '.' ]\n",
    "images:\n",
    "- '${_LOCATION}-docker.pkg.dev/$PROJECT_ID/${_REPOSITORY}/${_IMAGE}'\n",
    "<code>\n",
    "    \n",
    "\n",
    "**Este un ARCHIVO GENÉRICO que se puede reciclar porque está parametrizado para funcionar con cualquier repo docker en artifact registry** "
   ]
  },
  {
   "cell_type": "markdown",
   "id": "3f13b0ae",
   "metadata": {},
   "source": [
    "--> Corriendo la siguiente línea de código se crea un archivo yaml con la configuración deseada. \n",
    "\n",
    "Documentación: https://stackabuse.com/reading-and-writing-yaml-to-a-file-in-python/"
   ]
  },
  {
   "cell_type": "code",
   "execution_count": 4,
   "id": "e8516214",
   "metadata": {},
   "outputs": [],
   "source": [
    "import yaml"
   ]
  },
  {
   "cell_type": "code",
   "execution_count": 5,
   "id": "98471485",
   "metadata": {},
   "outputs": [],
   "source": [
    "# crear diccionario python con el contenido del yaml cloudbuild genérico\n",
    "\n",
    "dict_python_yaml_cloudbuild = {'steps': [{'name': 'gcr.io/cloud-builders/docker',\n",
    "   'args': ['build', '-t', '${_LOCATION}-docker.pkg.dev/$PROJECT_ID/${_REPOSITORY}/${_IMAGE}', '.']}],\n",
    " 'images': ['${_LOCATION}-docker.pkg.dev/$PROJECT_ID/${_REPOSITORY}/${_IMAGE}']}"
   ]
  },
  {
   "cell_type": "code",
   "execution_count": 6,
   "id": "0cf1a369",
   "metadata": {},
   "outputs": [],
   "source": [
    "# guardar diccionario en formato yaml\n",
    "\n",
    "with open(r'cloudbuild.yaml', 'w') as file:\n",
    "    documents = yaml.dump(dict_python_yaml_cloudbuild, file)"
   ]
  },
  {
   "cell_type": "code",
   "execution_count": null,
   "id": "a72e475e",
   "metadata": {},
   "outputs": [],
   "source": []
  },
  {
   "cell_type": "markdown",
   "id": "1b267e53",
   "metadata": {},
   "source": [
    "### Paso 3. Crear Dockerfile\n",
    "\n",
    "Igual que el paso anterior, se necesita crear en este caso, el Dockerfile para poder subir la imagen al Artifact Registry. Por lo general, el dockerfile, se crea de forma manual.\n",
    "\n",
    "En este ejemplo, se define el contenido del dockerfile dentro de un string lo que permite que en un futuro se pueda cambiar vía código por ejemplo:\n",
    "- versión de python\n",
    "- Listado de archivos que van a formar parte de la imagen\n",
    "- Librerías que necesita la imagen para funcionar\n",
    "\n",
    "Por lo general, la mayoría de las veces, el Dockerfile no necesita ser modificado salvo que se desee cambiar la versión de python o que se requiera agregar nuevas librerías en el desarrollo. Por lo que corriendo el sgte código se obtiene el Dockerfile de la app web\n",
    "\n",
    "https://prnt.sc/uwBOFChK8QU8"
   ]
  },
  {
   "cell_type": "code",
   "execution_count": 7,
   "id": "ed0e2f4d",
   "metadata": {},
   "outputs": [],
   "source": [
    "# crear string que representa al dockerfile\n",
    "\n",
    "string_dockerfile = '''FROM python:3.7.5-slim-buster\n",
    "ENV PYTHONUNBUFFERED True\n",
    "\n",
    "# Copy local code to the container image.\n",
    "ENV APP_HOME /app\n",
    "WORKDIR $APP_HOME\n",
    "COPY . ./\n",
    "\n",
    "# Install production dependencies.\n",
    "RUN pip install Flask gunicorn pandas numpy plotly google-cloud-bigquery db-dtypes Flask-Caching python-socketio==5.3.0\n",
    "\n",
    "CMD exec gunicorn --bind :$PORT --workers 1 --threads 8 --timeout 0 app:app\n",
    "'''"
   ]
  },
  {
   "cell_type": "code",
   "execution_count": 8,
   "id": "edc57cc1",
   "metadata": {},
   "outputs": [],
   "source": [
    "# guardar dockerfile\n",
    "with open('Dockerfile', 'w') as file:\n",
    "    file.write(string_dockerfile)"
   ]
  },
  {
   "cell_type": "code",
   "execution_count": null,
   "id": "c63b43e1",
   "metadata": {},
   "outputs": [],
   "source": []
  },
  {
   "cell_type": "code",
   "execution_count": null,
   "id": "15903a17",
   "metadata": {},
   "outputs": [],
   "source": []
  },
  {
   "cell_type": "markdown",
   "id": "ba335ac5",
   "metadata": {},
   "source": [
    "### Paso 4: Contenerizar (imagen docker) códigos app web utlizando cloud build y subirlas a artifact registry\n",
    "- En este paso se crea una imagen docker con los códigos necesarios para la app web y posterior se procede a subir dicha imagen a Artifact Registry (utilizando como base el archivo \"cloudbuild.yaml\" que llama al \"Dockerfile\", creados en los pasos anteriores)"
   ]
  },
  {
   "cell_type": "code",
   "execution_count": 9,
   "id": "1f993074",
   "metadata": {
    "scrolled": false
   },
   "outputs": [
    {
     "name": "stdout",
     "output_type": "stream",
     "text": [
      "----------------------------- REMOTE BUILD OUTPUT ------------------------------\n",
      "starting build \"de7d7193-7cd4-4247-bd9d-e6cac6f1129c\"\n",
      "\n",
      "FETCHSOURCE\n",
      "Fetching storage object: gs://cmpc-innovation-cd4ml-test_cloudbuild/source/1678151568.358685-71898a5e72a4431f99aedaa42c561b6a.tgz#1678151569242042\n",
      "Copying gs://cmpc-innovation-cd4ml-test_cloudbuild/source/1678151568.358685-71898a5e72a4431f99aedaa42c561b6a.tgz#1678151569242042...\n",
      "/ [0 files][    0.0 B/ 30.5 KiB]                                                \n",
      "/ [1 files][ 30.5 KiB/ 30.5 KiB]                                                \n",
      "\n",
      "Operation completed over 1 objects/30.5 KiB.\n",
      "BUILD\n",
      "Already have image (with digest): gcr.io/cloud-builders/docker\n",
      "Sending build context to Docker daemon    107kB\n",
      "\n",
      "\n",
      "Step 1/7 : FROM python:3.7.5-slim-buster\n",
      "3.7.5-slim-buster: Pulling from library/python\n",
      "000eee12ec04: Pulling fs layer\n",
      "ddc2d83f8229: Pulling fs layer\n",
      "735b0bee82a3: Pulling fs layer\n",
      "8c69dcedfc84: Pulling fs layer\n",
      "495e1cccc7f9: Pulling fs layer\n",
      "8c69dcedfc84: Waiting\n",
      "495e1cccc7f9: Waiting\n",
      "ddc2d83f8229: Verifying Checksum\n",
      "ddc2d83f8229: Download complete\n",
      "735b0bee82a3: Verifying Checksum\n",
      "735b0bee82a3: Download complete\n",
      "000eee12ec04: Verifying Checksum\n",
      "000eee12ec04: Download complete\n",
      "8c69dcedfc84: Verifying Checksum\n",
      "8c69dcedfc84: Download complete\n",
      "495e1cccc7f9: Verifying Checksum\n",
      "495e1cccc7f9: Download complete\n",
      "000eee12ec04: Pull complete\n",
      "ddc2d83f8229: Pull complete\n",
      "735b0bee82a3: Pull complete\n",
      "8c69dcedfc84: Pull complete\n",
      "495e1cccc7f9: Pull complete\n",
      "Digest: sha256:59af1bb7fb92ff97c9a23abae23f6beda13a95dbfd8100c7a2f71d150c0dc6e5\n",
      "Status: Downloaded newer image for python:3.7.5-slim-buster\n",
      " ---> 9f4008bf3f11\n",
      "Step 2/7 : ENV PYTHONUNBUFFERED True\n",
      " ---> Running in 409c6f53515b\n",
      "Removing intermediate container 409c6f53515b\n",
      " ---> 9675094e4f69\n",
      "Step 3/7 : ENV APP_HOME /app\n",
      " ---> Running in 6cb380a30825\n",
      "Removing intermediate container 6cb380a30825\n",
      " ---> bbf8a89f3ad6\n",
      "Step 4/7 : WORKDIR $APP_HOME\n",
      " ---> Running in 19f5e32fe95f\n",
      "Removing intermediate container 19f5e32fe95f\n",
      " ---> 5ade4c9a5f42\n",
      "Step 5/7 : COPY . ./\n",
      " ---> 2103cf8a03b5\n",
      "Step 6/7 : RUN pip install Flask gunicorn pandas numpy plotly google-cloud-bigquery db-dtypes Flask-Caching python-socketio==5.3.0\n",
      " ---> Running in 6983ddf8dc15\n",
      "Collecting Flask\n",
      "  Downloading https://files.pythonhosted.org/packages/95/9c/a3542594ce4973786236a1b7b702b8ca81dbf40ea270f0f96284f0c27348/Flask-2.2.3-py3-none-any.whl (101kB)\n",
      "Collecting gunicorn\n",
      "  Downloading https://files.pythonhosted.org/packages/e4/dd/5b190393e6066286773a67dfcc2f9492058e9b57c4867a95f1ba5caf0a83/gunicorn-20.1.0-py3-none-any.whl (79kB)\n",
      "Collecting pandas\n",
      "  Downloading https://files.pythonhosted.org/packages/3e/0c/23764c4635dcb0a784a787498d56847b90ebf974e65f4ab4053a5d97b1a5/pandas-1.3.5-cp37-cp37m-manylinux_2_17_x86_64.manylinux2014_x86_64.whl (11.3MB)\n",
      "Collecting numpy\n",
      "  Downloading https://files.pythonhosted.org/packages/6d/ad/ff3b21ebfe79a4d25b4a4f8e5cf9fd44a204adb6b33c09010f566f51027a/numpy-1.21.6-cp37-cp37m-manylinux_2_12_x86_64.manylinux2010_x86_64.whl (15.7MB)\n",
      "Collecting plotly\n",
      "  Downloading https://files.pythonhosted.org/packages/f7/f5/c5b30c0a6639f076615d56f628f507ae20388e8f8769aef99ce5ea2033c8/plotly-5.13.1-py2.py3-none-any.whl (15.2MB)\n",
      "Collecting google-cloud-bigquery\n",
      "  Downloading https://files.pythonhosted.org/packages/f5/50/9bf320ca5782ed48178a0a8cb7ad520dea00640a4ca6bf7cbe22951cdb25/google_cloud_bigquery-3.6.0-py2.py3-none-any.whl (215kB)\n",
      "Collecting db-dtypes\n",
      "  Downloading https://files.pythonhosted.org/packages/1c/5b/4ebdcc8be6069d55fc90aefc58112ba2c4881e3a1a73c80bef404433aa03/db_dtypes-1.0.5-py2.py3-none-any.whl\n",
      "Collecting Flask-Caching\n",
      "  Downloading https://files.pythonhosted.org/packages/fe/99/9fb5a680701b695e5e375d902586bea2704ad5517c8aa9c4225f13db131a/Flask_Caching-2.0.2-py3-none-any.whl\n",
      "Collecting python-socketio==5.3.0\n",
      "  Downloading https://files.pythonhosted.org/packages/d9/e8/00978e9a578e0727c902efaf69ee98be702adee61c9d2966e0eec257d0a3/python_socketio-5.3.0-py2.py3-none-any.whl (53kB)\n",
      "Collecting Jinja2>=3.0\n",
      "  Downloading https://files.pythonhosted.org/packages/bc/c3/f068337a370801f372f2f8f6bad74a5c140f6fda3d9de154052708dd3c65/Jinja2-3.1.2-py3-none-any.whl (133kB)\n",
      "Collecting importlib-metadata>=3.6.0; python_version < \"3.10\"\n",
      "  Downloading https://files.pythonhosted.org/packages/26/a7/9da7d5b23fc98ab3d424ac2c65613d63c1f401efb84ad50f2fa27b2caab4/importlib_metadata-6.0.0-py3-none-any.whl\n",
      "Collecting Werkzeug>=2.2.2\n",
      "  Downloading https://files.pythonhosted.org/packages/f6/f8/9da63c1617ae2a1dec2fbf6412f3a0cfe9d4ce029eccbda6e1e4258ca45f/Werkzeug-2.2.3-py3-none-any.whl (233kB)\n",
      "Collecting click>=8.0\n",
      "  Downloading https://files.pythonhosted.org/packages/c2/f1/df59e28c642d583f7dacffb1e0965d0e00b218e0186d7858ac5233dce840/click-8.1.3-py3-none-any.whl (96kB)\n",
      "Collecting itsdangerous>=2.0\n",
      "  Downloading https://files.pythonhosted.org/packages/68/5f/447e04e828f47465eeab35b5d408b7ebaaaee207f48b7136c5a7267a30ae/itsdangerous-2.1.2-py3-none-any.whl\n",
      "Requirement already satisfied: setuptools>=3.0 in /usr/local/lib/python3.7/site-packages (from gunicorn) (41.6.0)\n",
      "Collecting python-dateutil>=2.7.3\n",
      "  Downloading https://files.pythonhosted.org/packages/36/7a/87837f39d0296e723bb9b62bbb257d0355c7f6128853c78955f57342a56d/python_dateutil-2.8.2-py2.py3-none-any.whl (247kB)\n",
      "Collecting pytz>=2017.3\n",
      "  Downloading https://files.pythonhosted.org/packages/2e/09/fbd3c46dce130958ee8e0090f910f1fe39e502cc5ba0aadca1e8a2b932e5/pytz-2022.7.1-py2.py3-none-any.whl (499kB)\n",
      "Collecting tenacity>=6.2.0\n",
      "  Downloading https://files.pythonhosted.org/packages/e7/b0/c23bd61e1b32c9b96fbca996c87784e196a812da8d621d8d04851f6c8181/tenacity-8.2.2-py3-none-any.whl\n",
      "Collecting google-resumable-media<3.0dev,>=0.6.0\n",
      "  Downloading https://files.pythonhosted.org/packages/0b/d8/9a46125189d955ff50228351848019aef51775787db59373fefb20b09b3b/google_resumable_media-2.4.1-py2.py3-none-any.whl (77kB)\n",
      "Collecting proto-plus<2.0.0dev,>=1.15.0\n",
      "  Downloading https://files.pythonhosted.org/packages/f5/0e/a277783e8b7544008e625956dee8bbdec8c65fc4ae103fc5065a290abe92/proto_plus-1.22.2-py3-none-any.whl (47kB)\n",
      "Collecting grpcio<2.0dev,>=1.47.0\n",
      "  Downloading https://files.pythonhosted.org/packages/a4/54/b37502344596eac20781b390e8fc1dd4f7ee5b5f377a9551b0127ffde094/grpcio-1.51.3-cp37-cp37m-manylinux_2_17_x86_64.manylinux2014_x86_64.whl (4.8MB)\n",
      "Collecting google-api-core[grpc]!=2.0.*,!=2.1.*,!=2.2.*,!=2.3.0,<3.0.0dev,>=1.31.5\n",
      "  Downloading https://files.pythonhosted.org/packages/f7/24/a17e75c733609dce285a2dae6f56837d69a9566963c9d1cab96d788546c8/google_api_core-2.11.0-py3-none-any.whl (120kB)\n",
      "Collecting packaging>=20.0.0\n",
      "  Downloading https://files.pythonhosted.org/packages/ed/35/a31aed2993e398f6b09a790a181a7927eb14610ee8bbf02dc14d31677f1c/packaging-23.0-py3-none-any.whl (42kB)\n",
      "Collecting protobuf!=3.20.0,!=3.20.1,!=4.21.0,!=4.21.1,!=4.21.2,!=4.21.3,!=4.21.4,!=4.21.5,<5.0.0dev,>=3.19.5\n",
      "  Downloading https://files.pythonhosted.org/packages/89/80/d5fc86e6d6761e353b67e616be29224c17a66064ffced0c6f2e3829e3dd8/protobuf-4.22.0-cp37-abi3-manylinux2014_x86_64.whl (302kB)\n",
      "Collecting google-cloud-core<3.0.0dev,>=1.6.0\n",
      "  Downloading https://files.pythonhosted.org/packages/ac/4d/bae84e736080ed465a6b02e9f447c89c60c00fcdade2eb6911fecf3f46aa/google_cloud_core-2.3.2-py2.py3-none-any.whl\n",
      "Collecting requests<3.0.0dev,>=2.21.0\n",
      "  Downloading https://files.pythonhosted.org/packages/d2/f4/274d1dbe96b41cf4e0efb70cbced278ffd61b5c7bb70338b62af94ccb25b/requests-2.28.2-py3-none-any.whl (62kB)\n",
      "Collecting pyarrow>=3.0.0\n",
      "  Downloading https://files.pythonhosted.org/packages/55/4d/e3d3422fc8751f87c950a2a6c893a6fe53709bc96a679606cdb40dff7ac5/pyarrow-11.0.0-cp37-cp37m-manylinux_2_17_x86_64.manylinux2014_x86_64.whl (35.1MB)\n",
      "Collecting cachelib<0.10.0,>=0.9.0\n",
      "  Downloading https://files.pythonhosted.org/packages/93/70/58e525451478055b0fd2859b22226888a6985d404fe65e014fc4893d3b75/cachelib-0.9.0-py3-none-any.whl\n",
      "Collecting bidict>=0.21.0\n",
      "  Downloading https://files.pythonhosted.org/packages/b5/82/ce0b6380f35f49d3fe687979a324c342cfa3588380232f3801db9dd62f9e/bidict-0.22.1-py3-none-any.whl\n",
      "Collecting python-engineio>=4.1.0\n",
      "  Downloading https://files.pythonhosted.org/packages/45/ba/aa28ea42cbe8a133004f1cfe799bbd11d56f24c6fb588feea4d1dffeb148/python_engineio-4.3.4-py3-none-any.whl (52kB)\n",
      "Collecting MarkupSafe>=2.0\n",
      "  Downloading https://files.pythonhosted.org/packages/95/88/8c8cce021ac1b1eedde349c6a41f6c256da60babf95e572071361ff3f66b/MarkupSafe-2.1.2-cp37-cp37m-manylinux_2_17_x86_64.manylinux2014_x86_64.whl\n",
      "Collecting zipp>=0.5\n",
      "  Downloading https://files.pythonhosted.org/packages/5b/fa/c9e82bbe1af6266adf08afb563905eb87cab83fde00a0a08963510621047/zipp-3.15.0-py3-none-any.whl\n",
      "Collecting typing-extensions>=3.6.4; python_version < \"3.8\"\n",
      "  Downloading https://files.pythonhosted.org/packages/31/25/5abcd82372d3d4a3932e1fa8c3dbf9efac10cc7c0d16e78467460571b404/typing_extensions-4.5.0-py3-none-any.whl\n",
      "Collecting six>=1.5\n",
      "  Downloading https://files.pythonhosted.org/packages/d9/5a/e7c31adbe875f2abbb91bd84cf2dc52d792b5a01506781dbcf25c91daf11/six-1.16.0-py2.py3-none-any.whl\n",
      "Collecting google-crc32c<2.0dev,>=1.0\n",
      "  Downloading https://files.pythonhosted.org/packages/2c/8d/8eb582e052b2c588111f1d697847cf2409bb6e6d8eed8e5b6e3a70db0218/google_crc32c-1.5.0-cp37-cp37m-manylinux_2_17_x86_64.manylinux2014_x86_64.whl\n",
      "Collecting googleapis-common-protos<2.0dev,>=1.56.2\n",
      "  Downloading https://files.pythonhosted.org/packages/32/4e/ed585842aaa704d87495a0e99317aaa44c5007a597c05b995fa8cfc4dfbe/googleapis_common_protos-1.58.0-py2.py3-none-any.whl (223kB)\n",
      "Collecting google-auth<3.0dev,>=2.14.1\n",
      "  Downloading https://files.pythonhosted.org/packages/93/c4/16f8ad44ed7544244a9883f35cc99dc96378652a0ec7cc39028b1c697a1e/google_auth-2.16.2-py2.py3-none-any.whl (177kB)\n",
      "Collecting grpcio-status<2.0dev,>=1.33.2; extra == \"grpc\"\n",
      "  Downloading https://files.pythonhosted.org/packages/cf/06/93caa3804c8b129772662812925a055ae47c56b037e6554cac91a50094de/grpcio_status-1.51.3-py3-none-any.whl\n",
      "Collecting idna<4,>=2.5\n",
      "  Downloading https://files.pythonhosted.org/packages/fc/34/3030de6f1370931b9dbb4dad48f6ab1015ab1d32447850b9fc94e60097be/idna-3.4-py3-none-any.whl (61kB)\n",
      "Collecting certifi>=2017.4.17\n",
      "  Downloading https://files.pythonhosted.org/packages/71/4c/3db2b8021bd6f2f0ceb0e088d6b2d49147671f25832fb17970e9b583d742/certifi-2022.12.7-py3-none-any.whl (155kB)\n",
      "Collecting urllib3<1.27,>=1.21.1\n",
      "  Downloading https://files.pythonhosted.org/packages/fe/ca/466766e20b767ddb9b951202542310cba37ea5f2d792dae7589f1741af58/urllib3-1.26.14-py2.py3-none-any.whl (140kB)\n",
      "Collecting charset-normalizer<4,>=2\n",
      "  Downloading https://files.pythonhosted.org/packages/00/47/f14533da238134f5067fb1d951eb03d5c4be895d6afb11c7ebd07d111acb/charset_normalizer-3.1.0-cp37-cp37m-manylinux_2_17_x86_64.manylinux2014_x86_64.whl (171kB)\n",
      "Collecting cachetools<6.0,>=2.0.0\n",
      "  Downloading https://files.pythonhosted.org/packages/db/14/2b48a834d349eee94677e8702ea2ef98b7c674b090153ea8d3f6a788584e/cachetools-5.3.0-py3-none-any.whl\n",
      "Collecting rsa<5,>=3.1.4; python_version >= \"3.6\"\n",
      "  Downloading https://files.pythonhosted.org/packages/49/97/fa78e3d2f65c02c8e1268b9aba606569fe97f6c8f7c2d74394553347c145/rsa-4.9-py3-none-any.whl\n",
      "Collecting pyasn1-modules>=0.2.1\n",
      "  Downloading https://files.pythonhosted.org/packages/95/de/214830a981892a3e286c3794f41ae67a4495df1108c3da8a9f62159b9a9d/pyasn1_modules-0.2.8-py2.py3-none-any.whl (155kB)\n",
      "Collecting pyasn1>=0.1.3\n",
      "  Downloading https://files.pythonhosted.org/packages/62/1e/a94a8d635fa3ce4cfc7f506003548d0a2447ae76fd5ca53932970fe3053f/pyasn1-0.4.8-py2.py3-none-any.whl (77kB)\n",
      "Installing collected packages: MarkupSafe, Jinja2, zipp, typing-extensions, importlib-metadata, Werkzeug, click, itsdangerous, Flask, gunicorn, six, python-dateutil, pytz, numpy, pandas, tenacity, plotly, google-crc32c, google-resumable-media, protobuf, proto-plus, grpcio, googleapis-common-protos, cachetools, pyasn1, rsa, pyasn1-modules, google-auth, idna, certifi, urllib3, charset-normalizer, requests, grpcio-status, google-api-core, packaging, google-cloud-core, google-cloud-bigquery, pyarrow, db-dtypes, cachelib, Flask-Caching, bidict, python-engineio, python-socketio\n",
      "Successfully installed Flask-2.2.3 Flask-Caching-2.0.2 Jinja2-3.1.2 MarkupSafe-2.1.2 Werkzeug-2.2.3 bidict-0.22.1 cachelib-0.9.0 cachetools-5.3.0 certifi-2022.12.7 charset-normalizer-3.1.0 click-8.1.3 db-dtypes-1.0.5 google-api-core-2.11.0 google-auth-2.16.2 google-cloud-bigquery-3.6.0 google-cloud-core-2.3.2 google-crc32c-1.5.0 google-resumable-media-2.4.1 googleapis-common-protos-1.58.0 grpcio-1.51.3 grpcio-status-1.51.3 gunicorn-20.1.0 idna-3.4 importlib-metadata-6.0.0 itsdangerous-2.1.2 numpy-1.21.6 packaging-23.0 pandas-1.3.5 plotly-5.13.1 proto-plus-1.22.2 protobuf-4.22.0 pyarrow-11.0.0 pyasn1-0.4.8 pyasn1-modules-0.2.8 python-dateutil-2.8.2 python-engineio-4.3.4 python-socketio-5.3.0 pytz-2022.7.1 requests-2.28.2 rsa-4.9 six-1.16.0 tenacity-8.2.2 typing-extensions-4.5.0 urllib3-1.26.14 zipp-3.15.0\n",
      "\u001b[91mWARNING: You are using pip version 19.3.1; however, version 23.0.1 is available.\n",
      "You should consider upgrading via the 'pip install --upgrade pip' command.\n",
      "\u001b[0mRemoving intermediate container 6983ddf8dc15\n",
      " ---> da68beb5d40c\n",
      "Step 7/7 : CMD exec gunicorn --bind :$PORT --workers 1 --threads 8 --timeout 0 app:app\n",
      " ---> Running in 900d537e8f3c\n",
      "Removing intermediate container 900d537e8f3c\n",
      " ---> 6e747e4c82fe\n",
      "Successfully built 6e747e4c82fe\n",
      "Successfully tagged us-east1-docker.pkg.dev/cmpc-innovation-cd4ml-test/repo-app-web-6-hello-world-refresh-event-observer-bq-v2/6-hello-world-refresh-event-observer-bq-v2:latest\n",
      "PUSH\n",
      "Pushing us-east1-docker.pkg.dev/cmpc-innovation-cd4ml-test/repo-app-web-6-hello-world-refresh-event-observer-bq-v2/6-hello-world-refresh-event-observer-bq-v2\n",
      "The push refers to repository [us-east1-docker.pkg.dev/cmpc-innovation-cd4ml-test/repo-app-web-6-hello-world-refresh-event-observer-bq-v2/6-hello-world-refresh-event-observer-bq-v2]\n",
      "df40d0be29a3: Preparing\n",
      "7310d40a1a4d: Preparing\n",
      "e310f47ed383: Preparing\n",
      "36c21e895230: Preparing\n",
      "870ea4318145: Preparing\n",
      "ca56b6fe98b7: Preparing\n",
      "459d9d53a256: Preparing\n",
      "831c5620387f: Preparing\n",
      "ca56b6fe98b7: Waiting\n",
      "459d9d53a256: Waiting\n",
      "831c5620387f: Waiting\n",
      "36c21e895230: Layer already exists\n",
      "870ea4318145: Layer already exists\n",
      "459d9d53a256: Layer already exists\n",
      "ca56b6fe98b7: Layer already exists\n",
      "831c5620387f: Layer already exists\n",
      "e310f47ed383: Pushed\n",
      "7310d40a1a4d: Pushed\n",
      "df40d0be29a3: Pushed\n",
      "latest: digest: sha256:c5e550982abee354ac25b73357b68b96a7dcc7472d5f6401d3ed330ec693dc07 size: 1999\n",
      "DONE\n",
      "--------------------------------------------------------------------------------\n",
      "ID                                    CREATE_TIME                DURATION  SOURCE                                                                                                    IMAGES                                                                                                                                                           STATUS\n",
      "de7d7193-7cd4-4247-bd9d-e6cac6f1129c  2023-03-07T01:12:50+00:00  1M45S     gs://cmpc-innovation-cd4ml-test_cloudbuild/source/1678151568.358685-71898a5e72a4431f99aedaa42c561b6a.tgz  us-east1-docker.pkg.dev/cmpc-innovation-cd4ml-test/repo-app-web-6-hello-world-refresh-event-observer-bq-v2/6-hello-world-refresh-event-observer-bq-v2 (+1 more)  SUCCESS\n"
     ]
    },
    {
     "name": "stderr",
     "output_type": "stream",
     "text": [
      "Creating temporary tarball archive of 12 file(s) totalling 91.7 KiB before compression.\n",
      "Uploading tarball of [.] to [gs://cmpc-innovation-cd4ml-test_cloudbuild/source/1678151568.358685-71898a5e72a4431f99aedaa42c561b6a.tgz]\n",
      "Created [https://cloudbuild.googleapis.com/v1/projects/cmpc-innovation-cd4ml-test/locations/global/builds/de7d7193-7cd4-4247-bd9d-e6cac6f1129c].\n",
      "Logs are available at [https://console.cloud.google.com/cloud-build/builds/de7d7193-7cd4-4247-bd9d-e6cac6f1129c?project=724348686027].\n"
     ]
    }
   ],
   "source": [
    "# OJO: Los nombres de las variables en el comando gcloud corresponden a las variables definidas en el archivo de configuración \n",
    "# yaml\n",
    "\n",
    "# OJO2: para pasar el nombre de las variables (al igual que siempre) se debe de utilizar el signo dolar \"$\" pero debe\n",
    "# de estar entre comillas (para que se entienda que es la variable a reemplazar en el yaml de configuración)\n",
    "\n",
    "# OJO3: debe ser comillas dobles y sin espacios para no tener problemas\n",
    "\n",
    "! gcloud builds submit \\\n",
    "    --config=cloudbuild.yaml \\\n",
    "    --substitutions=_LOCATION=\"$REGION\",_REPOSITORY=\"$NAME_REPO\",_IMAGE=\"$NAME_IMAGE\" ."
   ]
  },
  {
   "cell_type": "code",
   "execution_count": null,
   "id": "7009598b",
   "metadata": {},
   "outputs": [],
   "source": []
  },
  {
   "cell_type": "markdown",
   "id": "28fba7d5",
   "metadata": {},
   "source": [
    "### Paso 5:  Deploy de la imagen del contenedor de artifact registry en cloud run\n",
    "Se debe de correr el comando gloud run deploy (igual que en el container registry) con la única diferencia en que cambia la ubicación de la imagen la cual es:\n",
    "\n",
    " {LOCATION}-docker.pkg.dev/{PROJECT}/{REPOSITORY}/{IMAGE}/\n",
    " \n",
    " \n",
    "\n",
    "**IMPORTANTE: POR PROBLEMAS DE PERMISOS, EL CLOUD RUN ESTÁ CONFIGURADO PARA QUE CUALQUIERA CON EL LINK PUEDA ACCEDER**"
   ]
  },
  {
   "cell_type": "markdown",
   "id": "67602265",
   "metadata": {},
   "source": [
    "#### Importante: está hardcodeado el timeout y la memoria"
   ]
  },
  {
   "cell_type": "code",
   "execution_count": 10,
   "id": "40f4016e",
   "metadata": {
    "scrolled": false
   },
   "outputs": [
    {
     "name": "stderr",
     "output_type": "stream",
     "text": [
      "Deploying container to Cloud Run service [app-web-6-hello-world-refresh-event-observer-bq-v2] in project [cmpc-innovation-cd4ml-test] region [us-east1]\n",
      "Deploying...\n",
      "Setting IAM Policy...........................done\n",
      "Creating Revision..............................................................................................................................................................................................................................................................................done\n",
      "Routing traffic.......................................................done\n",
      "Done.\n",
      "Service [app-web-6-hello-world-refresh-event-observer-bq-v2] revision [app-web-6-hello-world-refresh-event-observer-bq-v2-00003-has] has been deployed and is serving 100 percent of traffic.\n",
      "Service URL: https://app-web-6-hello-world-refresh-event-observer-bq-v-z33tzzez7a-ue.a.run.app\n"
     ]
    }
   ],
   "source": [
    "! gcloud run deploy $NAME_CLOUD_RUN \\\n",
    "    --image $REGION-docker.pkg.dev/$PROJECT_ID/$NAME_REPO/$NAME_IMAGE \\\n",
    "    --region $REGION \\\n",
    "    --timeout=1000 \\\n",
    "    --memory 512Mi \\\n",
    "    --set-env-vars=PROJECT_GCP=$env_var_project_gcp \\\n",
    "    --allow-unauthenticated"
   ]
  },
  {
   "cell_type": "code",
   "execution_count": 11,
   "id": "d5885bc8",
   "metadata": {
    "scrolled": true
   },
   "outputs": [],
   "source": [
    "# memory gigas\n",
    "\n",
    "###--memory 1Gi \\"
   ]
  },
  {
   "cell_type": "code",
   "execution_count": null,
   "id": "de671b7e",
   "metadata": {},
   "outputs": [],
   "source": []
  },
  {
   "cell_type": "code",
   "execution_count": null,
   "id": "05989684",
   "metadata": {},
   "outputs": [],
   "source": []
  },
  {
   "cell_type": "code",
   "execution_count": null,
   "id": "8539812c",
   "metadata": {},
   "outputs": [],
   "source": []
  }
 ],
 "metadata": {
  "kernelspec": {
   "display_name": "Python 3 (ipykernel)",
   "language": "python",
   "name": "python3"
  },
  "language_info": {
   "codemirror_mode": {
    "name": "ipython",
    "version": 3
   },
   "file_extension": ".py",
   "mimetype": "text/x-python",
   "name": "python",
   "nbconvert_exporter": "python",
   "pygments_lexer": "ipython3",
   "version": "3.8.13"
  }
 },
 "nbformat": 4,
 "nbformat_minor": 5
}
