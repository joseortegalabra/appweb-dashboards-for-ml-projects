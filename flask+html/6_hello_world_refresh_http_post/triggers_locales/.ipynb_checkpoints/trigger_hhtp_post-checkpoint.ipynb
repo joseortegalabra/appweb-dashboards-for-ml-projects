{
 "cells": [
  {
   "cell_type": "code",
   "execution_count": 1,
   "id": "2cb92f27",
   "metadata": {},
   "outputs": [],
   "source": [
    "import requests\n",
    "import json"
   ]
  },
  {
   "cell_type": "markdown",
   "id": "0391e821",
   "metadata": {},
   "source": [
    "## REQUEST POST"
   ]
  },
  {
   "cell_type": "code",
   "execution_count": 2,
   "id": "afb1ac8c",
   "metadata": {},
   "outputs": [],
   "source": [
    "def send_post_request(data, server, endpoint_flask):\n",
    "    # Configurar los datos a enviar en la solicitud HTTP POST\n",
    "    post_data = {\n",
    "        'data': data\n",
    "    }\n",
    "\n",
    "    # Realizar la solicitud HTTP POST\n",
    "    url = server + '/'+ endpoint_flask\n",
    "    response = requests.post(url, json=post_data)\n",
    "\n",
    "    # debug: print respuesta http\n",
    "    print(response.content)"
   ]
  },
  {
   "cell_type": "code",
   "execution_count": 3,
   "id": "e7b734d4",
   "metadata": {},
   "outputs": [],
   "source": [
    "# parametros con los server (SIN LA \"/\" AL FINAL DEL LINK)\n",
    "server_local = 'http://127.0.0.1:5000'\n",
    "server_cloud_run = 'https://app-web-6-hello-world-refresh-event-http-post-z33tzzez7a-ue.a.run.app'"
   ]
  },
  {
   "cell_type": "code",
   "execution_count": 4,
   "id": "a768ee40",
   "metadata": {
    "scrolled": true
   },
   "outputs": [
    {
     "name": "stdout",
     "output_type": "stream",
     "text": [
      "b'OK'\n"
     ]
    }
   ],
   "source": [
    "# trigger http post - refresh page\n",
    "send_post_request(data = 'trigger actualizar 09:30',\n",
    "                  server = server_cloud_run,\n",
    "                  endpoint_flask = 'trigger_http_refresh'\n",
    "                 )"
   ]
  },
  {
   "cell_type": "code",
   "execution_count": null,
   "id": "ee71ceb6",
   "metadata": {},
   "outputs": [],
   "source": []
  },
  {
   "cell_type": "code",
   "execution_count": null,
   "id": "a402a64d",
   "metadata": {},
   "outputs": [],
   "source": []
  },
  {
   "cell_type": "code",
   "execution_count": null,
   "id": "8cc3ae36",
   "metadata": {},
   "outputs": [],
   "source": []
  }
 ],
 "metadata": {
  "kernelspec": {
   "display_name": "Python 3 (ipykernel)",
   "language": "python",
   "name": "python3"
  },
  "language_info": {
   "codemirror_mode": {
    "name": "ipython",
    "version": 3
   },
   "file_extension": ".py",
   "mimetype": "text/x-python",
   "name": "python",
   "nbconvert_exporter": "python",
   "pygments_lexer": "ipython3",
   "version": "3.8.13"
  }
 },
 "nbformat": 4,
 "nbformat_minor": 5
}
