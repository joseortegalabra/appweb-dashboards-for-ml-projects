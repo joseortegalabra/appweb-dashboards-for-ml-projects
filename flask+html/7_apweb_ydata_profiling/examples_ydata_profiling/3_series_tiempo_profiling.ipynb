{
 "cells": [
  {
   "cell_type": "markdown",
   "id": "dd9a4d84",
   "metadata": {},
   "source": [
    "# Series de tiempo profiling\n",
    "\n",
    "Hacer profiling de series de tiempo.\n",
    "En este ejemplo se descarga data desde yahoo finanzas para hacer el ejemplo"
   ]
  },
  {
   "cell_type": "code",
   "execution_count": 1,
   "id": "4b807953",
   "metadata": {},
   "outputs": [],
   "source": [
    "#! pip install yfinance\n",
    "\n",
    "#!pip install yfinance --upgrade\n",
    "#!pip install pandas --upgrade"
   ]
  },
  {
   "cell_type": "code",
   "execution_count": 2,
   "id": "d389dc72",
   "metadata": {},
   "outputs": [
    {
     "name": "stdout",
     "output_type": "stream",
     "text": [
      "Name: yfinance\n",
      "Version: 0.2.18\n",
      "Summary: Download market data from Yahoo! Finance API\n",
      "Home-page: https://github.com/ranaroussi/yfinance\n",
      "Author: Ran Aroussi\n",
      "Author-email: ran@aroussi.com\n",
      "License: Apache\n",
      "Location: d:\\anaconda3\\envs\\data-science\\lib\\site-packages\n",
      "Requires: pandas, frozendict, pytz, numpy, cryptography, html5lib, lxml, beautifulsoup4, appdirs, multitasking, requests\n",
      "Required-by: \n"
     ]
    }
   ],
   "source": [
    "!pip show yfinance"
   ]
  },
  {
   "cell_type": "code",
   "execution_count": 3,
   "id": "1d479e31",
   "metadata": {},
   "outputs": [],
   "source": [
    "import pandas as pd\n",
    "import yfinance as yf\n",
    "from ydata_profiling import ProfileReport"
   ]
  },
  {
   "cell_type": "code",
   "execution_count": null,
   "id": "755b45d6",
   "metadata": {},
   "outputs": [],
   "source": []
  },
  {
   "cell_type": "markdown",
   "id": "23f2631c",
   "metadata": {},
   "source": [
    "### 1. Descargar data desde yahoo finanzas"
   ]
  },
  {
   "cell_type": "code",
   "execution_count": 4,
   "id": "b2253d1d",
   "metadata": {},
   "outputs": [
    {
     "name": "stdout",
     "output_type": "stream",
     "text": [
      "[*********************100%***********************]  1 of 1 completed\n"
     ]
    }
   ],
   "source": [
    "# Especifica el símbolo bursátil de la empresa\n",
    "symbol = \"AAPL\"\n",
    "\n",
    "# Descarga los datos históricos utilizando yfinance\n",
    "stock_data = yf.download(symbol, start=\"2022-01-01\", end=\"2023-04-29\")\n",
    "\n",
    "# Crea un DataFrame de pandas con los datos descargados\n",
    "data = pd.DataFrame(stock_data)"
   ]
  },
  {
   "cell_type": "code",
   "execution_count": 5,
   "id": "ee4d2644",
   "metadata": {},
   "outputs": [
    {
     "data": {
      "text/html": [
       "<div>\n",
       "<style scoped>\n",
       "    .dataframe tbody tr th:only-of-type {\n",
       "        vertical-align: middle;\n",
       "    }\n",
       "\n",
       "    .dataframe tbody tr th {\n",
       "        vertical-align: top;\n",
       "    }\n",
       "\n",
       "    .dataframe thead th {\n",
       "        text-align: right;\n",
       "    }\n",
       "</style>\n",
       "<table border=\"1\" class=\"dataframe\">\n",
       "  <thead>\n",
       "    <tr style=\"text-align: right;\">\n",
       "      <th></th>\n",
       "      <th>Open</th>\n",
       "      <th>High</th>\n",
       "      <th>Low</th>\n",
       "      <th>Close</th>\n",
       "      <th>Adj Close</th>\n",
       "      <th>Volume</th>\n",
       "    </tr>\n",
       "    <tr>\n",
       "      <th>Date</th>\n",
       "      <th></th>\n",
       "      <th></th>\n",
       "      <th></th>\n",
       "      <th></th>\n",
       "      <th></th>\n",
       "      <th></th>\n",
       "    </tr>\n",
       "  </thead>\n",
       "  <tbody>\n",
       "    <tr>\n",
       "      <th>2022-01-03</th>\n",
       "      <td>177.830002</td>\n",
       "      <td>182.880005</td>\n",
       "      <td>177.710007</td>\n",
       "      <td>182.009995</td>\n",
       "      <td>180.683853</td>\n",
       "      <td>104487900</td>\n",
       "    </tr>\n",
       "    <tr>\n",
       "      <th>2022-01-04</th>\n",
       "      <td>182.630005</td>\n",
       "      <td>182.940002</td>\n",
       "      <td>179.119995</td>\n",
       "      <td>179.699997</td>\n",
       "      <td>178.390701</td>\n",
       "      <td>99310400</td>\n",
       "    </tr>\n",
       "    <tr>\n",
       "      <th>2022-01-05</th>\n",
       "      <td>179.610001</td>\n",
       "      <td>180.169998</td>\n",
       "      <td>174.639999</td>\n",
       "      <td>174.919998</td>\n",
       "      <td>173.645523</td>\n",
       "      <td>94537600</td>\n",
       "    </tr>\n",
       "    <tr>\n",
       "      <th>2022-01-06</th>\n",
       "      <td>172.699997</td>\n",
       "      <td>175.300003</td>\n",
       "      <td>171.639999</td>\n",
       "      <td>172.000000</td>\n",
       "      <td>170.746796</td>\n",
       "      <td>96904000</td>\n",
       "    </tr>\n",
       "    <tr>\n",
       "      <th>2022-01-07</th>\n",
       "      <td>172.889999</td>\n",
       "      <td>174.139999</td>\n",
       "      <td>171.029999</td>\n",
       "      <td>172.169998</td>\n",
       "      <td>170.915573</td>\n",
       "      <td>86709100</td>\n",
       "    </tr>\n",
       "  </tbody>\n",
       "</table>\n",
       "</div>"
      ],
      "text/plain": [
       "                  Open        High         Low       Close   Adj Close   \n",
       "Date                                                                     \n",
       "2022-01-03  177.830002  182.880005  177.710007  182.009995  180.683853  \\\n",
       "2022-01-04  182.630005  182.940002  179.119995  179.699997  178.390701   \n",
       "2022-01-05  179.610001  180.169998  174.639999  174.919998  173.645523   \n",
       "2022-01-06  172.699997  175.300003  171.639999  172.000000  170.746796   \n",
       "2022-01-07  172.889999  174.139999  171.029999  172.169998  170.915573   \n",
       "\n",
       "               Volume  \n",
       "Date                   \n",
       "2022-01-03  104487900  \n",
       "2022-01-04   99310400  \n",
       "2022-01-05   94537600  \n",
       "2022-01-06   96904000  \n",
       "2022-01-07   86709100  "
      ]
     },
     "execution_count": 5,
     "metadata": {},
     "output_type": "execute_result"
    }
   ],
   "source": [
    "data.head()"
   ]
  },
  {
   "cell_type": "code",
   "execution_count": 6,
   "id": "ba6c2df2",
   "metadata": {},
   "outputs": [
    {
     "data": {
      "text/html": [
       "<div>\n",
       "<style scoped>\n",
       "    .dataframe tbody tr th:only-of-type {\n",
       "        vertical-align: middle;\n",
       "    }\n",
       "\n",
       "    .dataframe tbody tr th {\n",
       "        vertical-align: top;\n",
       "    }\n",
       "\n",
       "    .dataframe thead th {\n",
       "        text-align: right;\n",
       "    }\n",
       "</style>\n",
       "<table border=\"1\" class=\"dataframe\">\n",
       "  <thead>\n",
       "    <tr style=\"text-align: right;\">\n",
       "      <th></th>\n",
       "      <th>Open</th>\n",
       "      <th>High</th>\n",
       "      <th>Low</th>\n",
       "      <th>Close</th>\n",
       "      <th>Adj Close</th>\n",
       "      <th>Volume</th>\n",
       "    </tr>\n",
       "    <tr>\n",
       "      <th>Date</th>\n",
       "      <th></th>\n",
       "      <th></th>\n",
       "      <th></th>\n",
       "      <th></th>\n",
       "      <th></th>\n",
       "      <th></th>\n",
       "    </tr>\n",
       "  </thead>\n",
       "  <tbody>\n",
       "    <tr>\n",
       "      <th>2023-04-24</th>\n",
       "      <td>165.000000</td>\n",
       "      <td>165.600006</td>\n",
       "      <td>163.889999</td>\n",
       "      <td>165.330002</td>\n",
       "      <td>165.330002</td>\n",
       "      <td>41949600</td>\n",
       "    </tr>\n",
       "    <tr>\n",
       "      <th>2023-04-25</th>\n",
       "      <td>165.190002</td>\n",
       "      <td>166.309998</td>\n",
       "      <td>163.729996</td>\n",
       "      <td>163.770004</td>\n",
       "      <td>163.770004</td>\n",
       "      <td>48714100</td>\n",
       "    </tr>\n",
       "    <tr>\n",
       "      <th>2023-04-26</th>\n",
       "      <td>163.059998</td>\n",
       "      <td>165.279999</td>\n",
       "      <td>162.800003</td>\n",
       "      <td>163.759995</td>\n",
       "      <td>163.759995</td>\n",
       "      <td>45498800</td>\n",
       "    </tr>\n",
       "    <tr>\n",
       "      <th>2023-04-27</th>\n",
       "      <td>165.190002</td>\n",
       "      <td>168.559998</td>\n",
       "      <td>165.190002</td>\n",
       "      <td>168.410004</td>\n",
       "      <td>168.410004</td>\n",
       "      <td>64902300</td>\n",
       "    </tr>\n",
       "    <tr>\n",
       "      <th>2023-04-28</th>\n",
       "      <td>168.490005</td>\n",
       "      <td>169.850006</td>\n",
       "      <td>167.880005</td>\n",
       "      <td>169.679993</td>\n",
       "      <td>169.679993</td>\n",
       "      <td>55209200</td>\n",
       "    </tr>\n",
       "  </tbody>\n",
       "</table>\n",
       "</div>"
      ],
      "text/plain": [
       "                  Open        High         Low       Close   Adj Close   \n",
       "Date                                                                     \n",
       "2023-04-24  165.000000  165.600006  163.889999  165.330002  165.330002  \\\n",
       "2023-04-25  165.190002  166.309998  163.729996  163.770004  163.770004   \n",
       "2023-04-26  163.059998  165.279999  162.800003  163.759995  163.759995   \n",
       "2023-04-27  165.190002  168.559998  165.190002  168.410004  168.410004   \n",
       "2023-04-28  168.490005  169.850006  167.880005  169.679993  169.679993   \n",
       "\n",
       "              Volume  \n",
       "Date                  \n",
       "2023-04-24  41949600  \n",
       "2023-04-25  48714100  \n",
       "2023-04-26  45498800  \n",
       "2023-04-27  64902300  \n",
       "2023-04-28  55209200  "
      ]
     },
     "execution_count": 6,
     "metadata": {},
     "output_type": "execute_result"
    }
   ],
   "source": [
    "data.tail()"
   ]
  },
  {
   "cell_type": "code",
   "execution_count": 7,
   "id": "08787e09",
   "metadata": {},
   "outputs": [
    {
     "name": "stdout",
     "output_type": "stream",
     "text": [
      "<class 'pandas.core.frame.DataFrame'>\n",
      "DatetimeIndex: 332 entries, 2022-01-03 to 2023-04-28\n",
      "Data columns (total 6 columns):\n",
      " #   Column     Non-Null Count  Dtype  \n",
      "---  ------     --------------  -----  \n",
      " 0   Open       332 non-null    float64\n",
      " 1   High       332 non-null    float64\n",
      " 2   Low        332 non-null    float64\n",
      " 3   Close      332 non-null    float64\n",
      " 4   Adj Close  332 non-null    float64\n",
      " 5   Volume     332 non-null    int64  \n",
      "dtypes: float64(5), int64(1)\n",
      "memory usage: 18.2 KB\n"
     ]
    }
   ],
   "source": [
    "data.info()"
   ]
  },
  {
   "cell_type": "code",
   "execution_count": 8,
   "id": "d02120f0",
   "metadata": {},
   "outputs": [
    {
     "data": {
      "text/plain": [
       "DatetimeIndex(['2022-01-03', '2022-01-04', '2022-01-05', '2022-01-06',\n",
       "               '2022-01-07', '2022-01-10', '2022-01-11', '2022-01-12',\n",
       "               '2022-01-13', '2022-01-14',\n",
       "               ...\n",
       "               '2023-04-17', '2023-04-18', '2023-04-19', '2023-04-20',\n",
       "               '2023-04-21', '2023-04-24', '2023-04-25', '2023-04-26',\n",
       "               '2023-04-27', '2023-04-28'],\n",
       "              dtype='datetime64[ns]', name='Date', length=332, freq=None)"
      ]
     },
     "execution_count": 8,
     "metadata": {},
     "output_type": "execute_result"
    }
   ],
   "source": [
    "data.index"
   ]
  },
  {
   "cell_type": "code",
   "execution_count": null,
   "id": "ed34a8de",
   "metadata": {},
   "outputs": [],
   "source": []
  },
  {
   "cell_type": "markdown",
   "id": "ede761f9",
   "metadata": {},
   "source": [
    "### 2. Generar info clásico pandas profile"
   ]
  },
  {
   "cell_type": "code",
   "execution_count": 9,
   "id": "240f4d48",
   "metadata": {},
   "outputs": [
    {
     "data": {
      "application/vnd.jupyter.widget-view+json": {
       "model_id": "fcfc4e3d9126480581ce5c5e79abc326",
       "version_major": 2,
       "version_minor": 0
      },
      "text/plain": [
       "Summarize dataset:   0%|          | 0/5 [00:00<?, ?it/s]"
      ]
     },
     "metadata": {},
     "output_type": "display_data"
    },
    {
     "data": {
      "application/vnd.jupyter.widget-view+json": {
       "model_id": "0c3f0b6fc27c45788366a467034ece1c",
       "version_major": 2,
       "version_minor": 0
      },
      "text/plain": [
       "Generate report structure:   0%|          | 0/1 [00:00<?, ?it/s]"
      ]
     },
     "metadata": {},
     "output_type": "display_data"
    },
    {
     "data": {
      "application/vnd.jupyter.widget-view+json": {
       "model_id": "bd636a56778b4035a378348141966458",
       "version_major": 2,
       "version_minor": 0
      },
      "text/plain": [
       "Render HTML:   0%|          | 0/1 [00:00<?, ?it/s]"
      ]
     },
     "metadata": {},
     "output_type": "display_data"
    },
    {
     "data": {
      "application/vnd.jupyter.widget-view+json": {
       "model_id": "5f48bd63653e42b7980039d705751b0d",
       "version_major": 2,
       "version_minor": 0
      },
      "text/plain": [
       "Export report to file:   0%|          | 0/1 [00:00<?, ?it/s]"
      ]
     },
     "metadata": {},
     "output_type": "display_data"
    }
   ],
   "source": [
    "profile = ProfileReport(data, title = \"Apple Report\")\n",
    "profile.to_file(\"output_timeseries/report.html\")"
   ]
  },
  {
   "cell_type": "code",
   "execution_count": null,
   "id": "6af58eea",
   "metadata": {},
   "outputs": [],
   "source": []
  },
  {
   "cell_type": "code",
   "execution_count": null,
   "id": "98d61089",
   "metadata": {},
   "outputs": [],
   "source": []
  },
  {
   "cell_type": "markdown",
   "id": "41daa87b",
   "metadata": {},
   "source": [
    "### 3. Generar info time series pandas profiling\n",
    "Ydata-profiling (pandas profiling) permite hacer análisis de series de tiempo.\n",
    "En este notebook de ejemplo ocurren errores que no se han solucionado y no permite realizar el reporte de la serie de tiempo.\n",
    "En la documentación se observa cómo hacer el profiling de series de tiempo\n",
    "\n",
    "Documentación:\n",
    "- ejemplo: https://github.com/ydataai/ydata-profiling/blob/master/examples/usaairquality/usaairquality.ipynb\n",
    "- documentación ydata-profiling: https://ydata-profiling.ydata.ai/docs/master/pages/use_cases/time_series_datasets.html"
   ]
  },
  {
   "cell_type": "code",
   "execution_count": 10,
   "id": "e978d637",
   "metadata": {},
   "outputs": [
    {
     "data": {
      "text/html": [
       "<div>\n",
       "<style scoped>\n",
       "    .dataframe tbody tr th:only-of-type {\n",
       "        vertical-align: middle;\n",
       "    }\n",
       "\n",
       "    .dataframe tbody tr th {\n",
       "        vertical-align: top;\n",
       "    }\n",
       "\n",
       "    .dataframe thead th {\n",
       "        text-align: right;\n",
       "    }\n",
       "</style>\n",
       "<table border=\"1\" class=\"dataframe\">\n",
       "  <thead>\n",
       "    <tr style=\"text-align: right;\">\n",
       "      <th></th>\n",
       "      <th>Open</th>\n",
       "      <th>High</th>\n",
       "      <th>Low</th>\n",
       "      <th>Close</th>\n",
       "      <th>Adj Close</th>\n",
       "      <th>Volume</th>\n",
       "    </tr>\n",
       "    <tr>\n",
       "      <th>Date</th>\n",
       "      <th></th>\n",
       "      <th></th>\n",
       "      <th></th>\n",
       "      <th></th>\n",
       "      <th></th>\n",
       "      <th></th>\n",
       "    </tr>\n",
       "  </thead>\n",
       "  <tbody>\n",
       "    <tr>\n",
       "      <th>2022-01-03</th>\n",
       "      <td>177.830002</td>\n",
       "      <td>182.880005</td>\n",
       "      <td>177.710007</td>\n",
       "      <td>182.009995</td>\n",
       "      <td>180.683853</td>\n",
       "      <td>104487900</td>\n",
       "    </tr>\n",
       "    <tr>\n",
       "      <th>2022-01-04</th>\n",
       "      <td>182.630005</td>\n",
       "      <td>182.940002</td>\n",
       "      <td>179.119995</td>\n",
       "      <td>179.699997</td>\n",
       "      <td>178.390701</td>\n",
       "      <td>99310400</td>\n",
       "    </tr>\n",
       "    <tr>\n",
       "      <th>2022-01-05</th>\n",
       "      <td>179.610001</td>\n",
       "      <td>180.169998</td>\n",
       "      <td>174.639999</td>\n",
       "      <td>174.919998</td>\n",
       "      <td>173.645523</td>\n",
       "      <td>94537600</td>\n",
       "    </tr>\n",
       "    <tr>\n",
       "      <th>2022-01-06</th>\n",
       "      <td>172.699997</td>\n",
       "      <td>175.300003</td>\n",
       "      <td>171.639999</td>\n",
       "      <td>172.000000</td>\n",
       "      <td>170.746796</td>\n",
       "      <td>96904000</td>\n",
       "    </tr>\n",
       "    <tr>\n",
       "      <th>2022-01-07</th>\n",
       "      <td>172.889999</td>\n",
       "      <td>174.139999</td>\n",
       "      <td>171.029999</td>\n",
       "      <td>172.169998</td>\n",
       "      <td>170.915573</td>\n",
       "      <td>86709100</td>\n",
       "    </tr>\n",
       "    <tr>\n",
       "      <th>...</th>\n",
       "      <td>...</td>\n",
       "      <td>...</td>\n",
       "      <td>...</td>\n",
       "      <td>...</td>\n",
       "      <td>...</td>\n",
       "      <td>...</td>\n",
       "    </tr>\n",
       "    <tr>\n",
       "      <th>2023-04-24</th>\n",
       "      <td>165.000000</td>\n",
       "      <td>165.600006</td>\n",
       "      <td>163.889999</td>\n",
       "      <td>165.330002</td>\n",
       "      <td>165.330002</td>\n",
       "      <td>41949600</td>\n",
       "    </tr>\n",
       "    <tr>\n",
       "      <th>2023-04-25</th>\n",
       "      <td>165.190002</td>\n",
       "      <td>166.309998</td>\n",
       "      <td>163.729996</td>\n",
       "      <td>163.770004</td>\n",
       "      <td>163.770004</td>\n",
       "      <td>48714100</td>\n",
       "    </tr>\n",
       "    <tr>\n",
       "      <th>2023-04-26</th>\n",
       "      <td>163.059998</td>\n",
       "      <td>165.279999</td>\n",
       "      <td>162.800003</td>\n",
       "      <td>163.759995</td>\n",
       "      <td>163.759995</td>\n",
       "      <td>45498800</td>\n",
       "    </tr>\n",
       "    <tr>\n",
       "      <th>2023-04-27</th>\n",
       "      <td>165.190002</td>\n",
       "      <td>168.559998</td>\n",
       "      <td>165.190002</td>\n",
       "      <td>168.410004</td>\n",
       "      <td>168.410004</td>\n",
       "      <td>64902300</td>\n",
       "    </tr>\n",
       "    <tr>\n",
       "      <th>2023-04-28</th>\n",
       "      <td>168.490005</td>\n",
       "      <td>169.850006</td>\n",
       "      <td>167.880005</td>\n",
       "      <td>169.679993</td>\n",
       "      <td>169.679993</td>\n",
       "      <td>55209200</td>\n",
       "    </tr>\n",
       "  </tbody>\n",
       "</table>\n",
       "<p>332 rows × 6 columns</p>\n",
       "</div>"
      ],
      "text/plain": [
       "                  Open        High         Low       Close   Adj Close   \n",
       "Date                                                                     \n",
       "2022-01-03  177.830002  182.880005  177.710007  182.009995  180.683853  \\\n",
       "2022-01-04  182.630005  182.940002  179.119995  179.699997  178.390701   \n",
       "2022-01-05  179.610001  180.169998  174.639999  174.919998  173.645523   \n",
       "2022-01-06  172.699997  175.300003  171.639999  172.000000  170.746796   \n",
       "2022-01-07  172.889999  174.139999  171.029999  172.169998  170.915573   \n",
       "...                ...         ...         ...         ...         ...   \n",
       "2023-04-24  165.000000  165.600006  163.889999  165.330002  165.330002   \n",
       "2023-04-25  165.190002  166.309998  163.729996  163.770004  163.770004   \n",
       "2023-04-26  163.059998  165.279999  162.800003  163.759995  163.759995   \n",
       "2023-04-27  165.190002  168.559998  165.190002  168.410004  168.410004   \n",
       "2023-04-28  168.490005  169.850006  167.880005  169.679993  169.679993   \n",
       "\n",
       "               Volume  \n",
       "Date                   \n",
       "2022-01-03  104487900  \n",
       "2022-01-04   99310400  \n",
       "2022-01-05   94537600  \n",
       "2022-01-06   96904000  \n",
       "2022-01-07   86709100  \n",
       "...               ...  \n",
       "2023-04-24   41949600  \n",
       "2023-04-25   48714100  \n",
       "2023-04-26   45498800  \n",
       "2023-04-27   64902300  \n",
       "2023-04-28   55209200  \n",
       "\n",
       "[332 rows x 6 columns]"
      ]
     },
     "execution_count": 10,
     "metadata": {},
     "output_type": "execute_result"
    }
   ],
   "source": [
    "data"
   ]
  },
  {
   "cell_type": "code",
   "execution_count": 11,
   "id": "35d7bdf0",
   "metadata": {},
   "outputs": [
    {
     "name": "stdout",
     "output_type": "stream",
     "text": [
      "<class 'pandas.core.frame.DataFrame'>\n",
      "DatetimeIndex: 332 entries, 2022-01-03 to 2023-04-28\n",
      "Data columns (total 6 columns):\n",
      " #   Column     Non-Null Count  Dtype  \n",
      "---  ------     --------------  -----  \n",
      " 0   Open       332 non-null    float64\n",
      " 1   High       332 non-null    float64\n",
      " 2   Low        332 non-null    float64\n",
      " 3   Close      332 non-null    float64\n",
      " 4   Adj Close  332 non-null    float64\n",
      " 5   Volume     332 non-null    int64  \n",
      "dtypes: float64(5), int64(1)\n",
      "memory usage: 18.2 KB\n"
     ]
    }
   ],
   "source": [
    "data.info()"
   ]
  },
  {
   "cell_type": "code",
   "execution_count": 12,
   "id": "3b080cf7",
   "metadata": {},
   "outputs": [
    {
     "data": {
      "text/html": [
       "<div>\n",
       "<style scoped>\n",
       "    .dataframe tbody tr th:only-of-type {\n",
       "        vertical-align: middle;\n",
       "    }\n",
       "\n",
       "    .dataframe tbody tr th {\n",
       "        vertical-align: top;\n",
       "    }\n",
       "\n",
       "    .dataframe thead th {\n",
       "        text-align: right;\n",
       "    }\n",
       "</style>\n",
       "<table border=\"1\" class=\"dataframe\">\n",
       "  <thead>\n",
       "    <tr style=\"text-align: right;\">\n",
       "      <th></th>\n",
       "      <th>Open</th>\n",
       "    </tr>\n",
       "    <tr>\n",
       "      <th>Date</th>\n",
       "      <th></th>\n",
       "    </tr>\n",
       "  </thead>\n",
       "  <tbody>\n",
       "    <tr>\n",
       "      <th>2022-01-03</th>\n",
       "      <td>177.830002</td>\n",
       "    </tr>\n",
       "    <tr>\n",
       "      <th>2022-01-04</th>\n",
       "      <td>182.630005</td>\n",
       "    </tr>\n",
       "    <tr>\n",
       "      <th>2022-01-05</th>\n",
       "      <td>179.610001</td>\n",
       "    </tr>\n",
       "    <tr>\n",
       "      <th>2022-01-06</th>\n",
       "      <td>172.699997</td>\n",
       "    </tr>\n",
       "    <tr>\n",
       "      <th>2022-01-07</th>\n",
       "      <td>172.889999</td>\n",
       "    </tr>\n",
       "  </tbody>\n",
       "</table>\n",
       "</div>"
      ],
      "text/plain": [
       "                  Open\n",
       "Date                  \n",
       "2022-01-03  177.830002\n",
       "2022-01-04  182.630005\n",
       "2022-01-05  179.610001\n",
       "2022-01-06  172.699997\n",
       "2022-01-07  172.889999"
      ]
     },
     "execution_count": 12,
     "metadata": {},
     "output_type": "execute_result"
    }
   ],
   "source": [
    "data[['Open']].head()"
   ]
  },
  {
   "cell_type": "code",
   "execution_count": 17,
   "id": "7d22077b",
   "metadata": {},
   "outputs": [],
   "source": [
    "# eliminar feature \"Volume\" al no ser float\n",
    "data = data[['Open','High','Low','Close','Adj Close']]"
   ]
  },
  {
   "cell_type": "code",
   "execution_count": 19,
   "id": "4573458f",
   "metadata": {},
   "outputs": [
    {
     "data": {
      "text/html": [
       "<div>\n",
       "<style scoped>\n",
       "    .dataframe tbody tr th:only-of-type {\n",
       "        vertical-align: middle;\n",
       "    }\n",
       "\n",
       "    .dataframe tbody tr th {\n",
       "        vertical-align: top;\n",
       "    }\n",
       "\n",
       "    .dataframe thead th {\n",
       "        text-align: right;\n",
       "    }\n",
       "</style>\n",
       "<table border=\"1\" class=\"dataframe\">\n",
       "  <thead>\n",
       "    <tr style=\"text-align: right;\">\n",
       "      <th></th>\n",
       "      <th>Open</th>\n",
       "      <th>High</th>\n",
       "      <th>Low</th>\n",
       "      <th>Close</th>\n",
       "      <th>Adj Close</th>\n",
       "    </tr>\n",
       "    <tr>\n",
       "      <th>Date</th>\n",
       "      <th></th>\n",
       "      <th></th>\n",
       "      <th></th>\n",
       "      <th></th>\n",
       "      <th></th>\n",
       "    </tr>\n",
       "  </thead>\n",
       "  <tbody>\n",
       "    <tr>\n",
       "      <th>2022-01-03</th>\n",
       "      <td>177.830002</td>\n",
       "      <td>182.880005</td>\n",
       "      <td>177.710007</td>\n",
       "      <td>182.009995</td>\n",
       "      <td>180.683853</td>\n",
       "    </tr>\n",
       "    <tr>\n",
       "      <th>2022-01-04</th>\n",
       "      <td>182.630005</td>\n",
       "      <td>182.940002</td>\n",
       "      <td>179.119995</td>\n",
       "      <td>179.699997</td>\n",
       "      <td>178.390701</td>\n",
       "    </tr>\n",
       "    <tr>\n",
       "      <th>2022-01-05</th>\n",
       "      <td>179.610001</td>\n",
       "      <td>180.169998</td>\n",
       "      <td>174.639999</td>\n",
       "      <td>174.919998</td>\n",
       "      <td>173.645523</td>\n",
       "    </tr>\n",
       "    <tr>\n",
       "      <th>2022-01-06</th>\n",
       "      <td>172.699997</td>\n",
       "      <td>175.300003</td>\n",
       "      <td>171.639999</td>\n",
       "      <td>172.000000</td>\n",
       "      <td>170.746796</td>\n",
       "    </tr>\n",
       "    <tr>\n",
       "      <th>2022-01-07</th>\n",
       "      <td>172.889999</td>\n",
       "      <td>174.139999</td>\n",
       "      <td>171.029999</td>\n",
       "      <td>172.169998</td>\n",
       "      <td>170.915573</td>\n",
       "    </tr>\n",
       "    <tr>\n",
       "      <th>...</th>\n",
       "      <td>...</td>\n",
       "      <td>...</td>\n",
       "      <td>...</td>\n",
       "      <td>...</td>\n",
       "      <td>...</td>\n",
       "    </tr>\n",
       "    <tr>\n",
       "      <th>2023-04-24</th>\n",
       "      <td>165.000000</td>\n",
       "      <td>165.600006</td>\n",
       "      <td>163.889999</td>\n",
       "      <td>165.330002</td>\n",
       "      <td>165.330002</td>\n",
       "    </tr>\n",
       "    <tr>\n",
       "      <th>2023-04-25</th>\n",
       "      <td>165.190002</td>\n",
       "      <td>166.309998</td>\n",
       "      <td>163.729996</td>\n",
       "      <td>163.770004</td>\n",
       "      <td>163.770004</td>\n",
       "    </tr>\n",
       "    <tr>\n",
       "      <th>2023-04-26</th>\n",
       "      <td>163.059998</td>\n",
       "      <td>165.279999</td>\n",
       "      <td>162.800003</td>\n",
       "      <td>163.759995</td>\n",
       "      <td>163.759995</td>\n",
       "    </tr>\n",
       "    <tr>\n",
       "      <th>2023-04-27</th>\n",
       "      <td>165.190002</td>\n",
       "      <td>168.559998</td>\n",
       "      <td>165.190002</td>\n",
       "      <td>168.410004</td>\n",
       "      <td>168.410004</td>\n",
       "    </tr>\n",
       "    <tr>\n",
       "      <th>2023-04-28</th>\n",
       "      <td>168.490005</td>\n",
       "      <td>169.850006</td>\n",
       "      <td>167.880005</td>\n",
       "      <td>169.679993</td>\n",
       "      <td>169.679993</td>\n",
       "    </tr>\n",
       "  </tbody>\n",
       "</table>\n",
       "<p>332 rows × 5 columns</p>\n",
       "</div>"
      ],
      "text/plain": [
       "                  Open        High         Low       Close   Adj Close\n",
       "Date                                                                  \n",
       "2022-01-03  177.830002  182.880005  177.710007  182.009995  180.683853\n",
       "2022-01-04  182.630005  182.940002  179.119995  179.699997  178.390701\n",
       "2022-01-05  179.610001  180.169998  174.639999  174.919998  173.645523\n",
       "2022-01-06  172.699997  175.300003  171.639999  172.000000  170.746796\n",
       "2022-01-07  172.889999  174.139999  171.029999  172.169998  170.915573\n",
       "...                ...         ...         ...         ...         ...\n",
       "2023-04-24  165.000000  165.600006  163.889999  165.330002  165.330002\n",
       "2023-04-25  165.190002  166.309998  163.729996  163.770004  163.770004\n",
       "2023-04-26  163.059998  165.279999  162.800003  163.759995  163.759995\n",
       "2023-04-27  165.190002  168.559998  165.190002  168.410004  168.410004\n",
       "2023-04-28  168.490005  169.850006  167.880005  169.679993  169.679993\n",
       "\n",
       "[332 rows x 5 columns]"
      ]
     },
     "execution_count": 19,
     "metadata": {},
     "output_type": "execute_result"
    }
   ],
   "source": [
    "data"
   ]
  },
  {
   "cell_type": "code",
   "execution_count": 18,
   "id": "8e945f1c",
   "metadata": {},
   "outputs": [
    {
     "data": {
      "application/vnd.jupyter.widget-view+json": {
       "model_id": "085768ce135a447ba10a8268c0aa906a",
       "version_major": 2,
       "version_minor": 0
      },
      "text/plain": [
       "Summarize dataset:   0%|          | 0/5 [00:00<?, ?it/s]"
      ]
     },
     "metadata": {},
     "output_type": "display_data"
    },
    {
     "ename": "AttributeError",
     "evalue": "'Series' object has no attribute 'mad'",
     "output_type": "error",
     "traceback": [
      "\u001b[1;31m---------------------------------------------------------------------------\u001b[0m",
      "\u001b[1;31mAttributeError\u001b[0m                            Traceback (most recent call last)",
      "Input \u001b[1;32mIn [18]\u001b[0m, in \u001b[0;36m<cell line: 3>\u001b[1;34m()\u001b[0m\n\u001b[0;32m      1\u001b[0m profile \u001b[38;5;241m=\u001b[39m ProfileReport(data, tsmode\u001b[38;5;241m=\u001b[39m\u001b[38;5;28;01mTrue\u001b[39;00m, sortby \u001b[38;5;241m=\u001b[39m \u001b[38;5;124m'\u001b[39m\u001b[38;5;124mDate\u001b[39m\u001b[38;5;124m'\u001b[39m, title\u001b[38;5;241m=\u001b[39m\u001b[38;5;124m\"\u001b[39m\u001b[38;5;124mTime-Series EDA\u001b[39m\u001b[38;5;124m\"\u001b[39m)\n\u001b[1;32m----> 3\u001b[0m \u001b[43mprofile\u001b[49m\u001b[38;5;241;43m.\u001b[39;49m\u001b[43mto_file\u001b[49m\u001b[43m(\u001b[49m\u001b[38;5;124;43m\"\u001b[39;49m\u001b[38;5;124;43moutput_timeseries/report_timeseries.html\u001b[39;49m\u001b[38;5;124;43m\"\u001b[39;49m\u001b[43m)\u001b[49m\n",
      "File \u001b[1;32mD:\\Anaconda3\\envs\\data-science\\lib\\site-packages\\typeguard\\__init__.py:1033\u001b[0m, in \u001b[0;36mtypechecked.<locals>.wrapper\u001b[1;34m(*args, **kwargs)\u001b[0m\n\u001b[0;32m   1031\u001b[0m memo \u001b[38;5;241m=\u001b[39m _CallMemo(python_func, _localns, args\u001b[38;5;241m=\u001b[39margs, kwargs\u001b[38;5;241m=\u001b[39mkwargs)\n\u001b[0;32m   1032\u001b[0m check_argument_types(memo)\n\u001b[1;32m-> 1033\u001b[0m retval \u001b[38;5;241m=\u001b[39m \u001b[43mfunc\u001b[49m\u001b[43m(\u001b[49m\u001b[38;5;241;43m*\u001b[39;49m\u001b[43margs\u001b[49m\u001b[43m,\u001b[49m\u001b[43m \u001b[49m\u001b[38;5;241;43m*\u001b[39;49m\u001b[38;5;241;43m*\u001b[39;49m\u001b[43mkwargs\u001b[49m\u001b[43m)\u001b[49m\n\u001b[0;32m   1034\u001b[0m \u001b[38;5;28;01mtry\u001b[39;00m:\n\u001b[0;32m   1035\u001b[0m     check_return_type(retval, memo)\n",
      "File \u001b[1;32mD:\\Anaconda3\\envs\\data-science\\lib\\site-packages\\ydata_profiling\\profile_report.py:350\u001b[0m, in \u001b[0;36mProfileReport.to_file\u001b[1;34m(self, output_file, silent)\u001b[0m\n\u001b[0;32m    347\u001b[0m         \u001b[38;5;28mself\u001b[39m\u001b[38;5;241m.\u001b[39mconfig\u001b[38;5;241m.\u001b[39mhtml\u001b[38;5;241m.\u001b[39massets_prefix \u001b[38;5;241m=\u001b[39m \u001b[38;5;28mstr\u001b[39m(output_file\u001b[38;5;241m.\u001b[39mstem) \u001b[38;5;241m+\u001b[39m \u001b[38;5;124m\"\u001b[39m\u001b[38;5;124m_assets\u001b[39m\u001b[38;5;124m\"\u001b[39m\n\u001b[0;32m    348\u001b[0m     create_html_assets(\u001b[38;5;28mself\u001b[39m\u001b[38;5;241m.\u001b[39mconfig, output_file)\n\u001b[1;32m--> 350\u001b[0m data \u001b[38;5;241m=\u001b[39m \u001b[38;5;28;43mself\u001b[39;49m\u001b[38;5;241;43m.\u001b[39;49m\u001b[43mto_html\u001b[49m\u001b[43m(\u001b[49m\u001b[43m)\u001b[49m\n\u001b[0;32m    352\u001b[0m \u001b[38;5;28;01mif\u001b[39;00m output_file\u001b[38;5;241m.\u001b[39msuffix \u001b[38;5;241m!=\u001b[39m \u001b[38;5;124m\"\u001b[39m\u001b[38;5;124m.html\u001b[39m\u001b[38;5;124m\"\u001b[39m:\n\u001b[0;32m    353\u001b[0m     suffix \u001b[38;5;241m=\u001b[39m output_file\u001b[38;5;241m.\u001b[39msuffix\n",
      "File \u001b[1;32mD:\\Anaconda3\\envs\\data-science\\lib\\site-packages\\typeguard\\__init__.py:1033\u001b[0m, in \u001b[0;36mtypechecked.<locals>.wrapper\u001b[1;34m(*args, **kwargs)\u001b[0m\n\u001b[0;32m   1031\u001b[0m memo \u001b[38;5;241m=\u001b[39m _CallMemo(python_func, _localns, args\u001b[38;5;241m=\u001b[39margs, kwargs\u001b[38;5;241m=\u001b[39mkwargs)\n\u001b[0;32m   1032\u001b[0m check_argument_types(memo)\n\u001b[1;32m-> 1033\u001b[0m retval \u001b[38;5;241m=\u001b[39m \u001b[43mfunc\u001b[49m\u001b[43m(\u001b[49m\u001b[38;5;241;43m*\u001b[39;49m\u001b[43margs\u001b[49m\u001b[43m,\u001b[49m\u001b[43m \u001b[49m\u001b[38;5;241;43m*\u001b[39;49m\u001b[38;5;241;43m*\u001b[39;49m\u001b[43mkwargs\u001b[49m\u001b[43m)\u001b[49m\n\u001b[0;32m   1034\u001b[0m \u001b[38;5;28;01mtry\u001b[39;00m:\n\u001b[0;32m   1035\u001b[0m     check_return_type(retval, memo)\n",
      "File \u001b[1;32mD:\\Anaconda3\\envs\\data-science\\lib\\site-packages\\ydata_profiling\\profile_report.py:461\u001b[0m, in \u001b[0;36mProfileReport.to_html\u001b[1;34m(self)\u001b[0m\n\u001b[0;32m    453\u001b[0m \u001b[38;5;28;01mdef\u001b[39;00m \u001b[38;5;21mto_html\u001b[39m(\u001b[38;5;28mself\u001b[39m) \u001b[38;5;241m-\u001b[39m\u001b[38;5;241m>\u001b[39m \u001b[38;5;28mstr\u001b[39m:\n\u001b[0;32m    454\u001b[0m     \u001b[38;5;124;03m\"\"\"Generate and return complete template as lengthy string\u001b[39;00m\n\u001b[0;32m    455\u001b[0m \u001b[38;5;124;03m        for using with frameworks.\u001b[39;00m\n\u001b[0;32m    456\u001b[0m \n\u001b[1;32m   (...)\u001b[0m\n\u001b[0;32m    459\u001b[0m \n\u001b[0;32m    460\u001b[0m \u001b[38;5;124;03m    \"\"\"\u001b[39;00m\n\u001b[1;32m--> 461\u001b[0m     \u001b[38;5;28;01mreturn\u001b[39;00m \u001b[38;5;28;43mself\u001b[39;49m\u001b[38;5;241;43m.\u001b[39;49m\u001b[43mhtml\u001b[49m\n",
      "File \u001b[1;32mD:\\Anaconda3\\envs\\data-science\\lib\\site-packages\\typeguard\\__init__.py:1033\u001b[0m, in \u001b[0;36mtypechecked.<locals>.wrapper\u001b[1;34m(*args, **kwargs)\u001b[0m\n\u001b[0;32m   1031\u001b[0m memo \u001b[38;5;241m=\u001b[39m _CallMemo(python_func, _localns, args\u001b[38;5;241m=\u001b[39margs, kwargs\u001b[38;5;241m=\u001b[39mkwargs)\n\u001b[0;32m   1032\u001b[0m check_argument_types(memo)\n\u001b[1;32m-> 1033\u001b[0m retval \u001b[38;5;241m=\u001b[39m \u001b[43mfunc\u001b[49m\u001b[43m(\u001b[49m\u001b[38;5;241;43m*\u001b[39;49m\u001b[43margs\u001b[49m\u001b[43m,\u001b[49m\u001b[43m \u001b[49m\u001b[38;5;241;43m*\u001b[39;49m\u001b[38;5;241;43m*\u001b[39;49m\u001b[43mkwargs\u001b[49m\u001b[43m)\u001b[49m\n\u001b[0;32m   1034\u001b[0m \u001b[38;5;28;01mtry\u001b[39;00m:\n\u001b[0;32m   1035\u001b[0m     check_return_type(retval, memo)\n",
      "File \u001b[1;32mD:\\Anaconda3\\envs\\data-science\\lib\\site-packages\\ydata_profiling\\profile_report.py:272\u001b[0m, in \u001b[0;36mProfileReport.html\u001b[1;34m(self)\u001b[0m\n\u001b[0;32m    269\u001b[0m \u001b[38;5;129m@property\u001b[39m\n\u001b[0;32m    270\u001b[0m \u001b[38;5;28;01mdef\u001b[39;00m \u001b[38;5;21mhtml\u001b[39m(\u001b[38;5;28mself\u001b[39m) \u001b[38;5;241m-\u001b[39m\u001b[38;5;241m>\u001b[39m \u001b[38;5;28mstr\u001b[39m:\n\u001b[0;32m    271\u001b[0m     \u001b[38;5;28;01mif\u001b[39;00m \u001b[38;5;28mself\u001b[39m\u001b[38;5;241m.\u001b[39m_html \u001b[38;5;129;01mis\u001b[39;00m \u001b[38;5;28;01mNone\u001b[39;00m:\n\u001b[1;32m--> 272\u001b[0m         \u001b[38;5;28mself\u001b[39m\u001b[38;5;241m.\u001b[39m_html \u001b[38;5;241m=\u001b[39m \u001b[38;5;28;43mself\u001b[39;49m\u001b[38;5;241;43m.\u001b[39;49m\u001b[43m_render_html\u001b[49m\u001b[43m(\u001b[49m\u001b[43m)\u001b[49m\n\u001b[0;32m    273\u001b[0m     \u001b[38;5;28;01mreturn\u001b[39;00m \u001b[38;5;28mself\u001b[39m\u001b[38;5;241m.\u001b[39m_html\n",
      "File \u001b[1;32mD:\\Anaconda3\\envs\\data-science\\lib\\site-packages\\typeguard\\__init__.py:1033\u001b[0m, in \u001b[0;36mtypechecked.<locals>.wrapper\u001b[1;34m(*args, **kwargs)\u001b[0m\n\u001b[0;32m   1031\u001b[0m memo \u001b[38;5;241m=\u001b[39m _CallMemo(python_func, _localns, args\u001b[38;5;241m=\u001b[39margs, kwargs\u001b[38;5;241m=\u001b[39mkwargs)\n\u001b[0;32m   1032\u001b[0m check_argument_types(memo)\n\u001b[1;32m-> 1033\u001b[0m retval \u001b[38;5;241m=\u001b[39m \u001b[43mfunc\u001b[49m\u001b[43m(\u001b[49m\u001b[38;5;241;43m*\u001b[39;49m\u001b[43margs\u001b[49m\u001b[43m,\u001b[49m\u001b[43m \u001b[49m\u001b[38;5;241;43m*\u001b[39;49m\u001b[38;5;241;43m*\u001b[39;49m\u001b[43mkwargs\u001b[49m\u001b[43m)\u001b[49m\n\u001b[0;32m   1034\u001b[0m \u001b[38;5;28;01mtry\u001b[39;00m:\n\u001b[0;32m   1035\u001b[0m     check_return_type(retval, memo)\n",
      "File \u001b[1;32mD:\\Anaconda3\\envs\\data-science\\lib\\site-packages\\ydata_profiling\\profile_report.py:380\u001b[0m, in \u001b[0;36mProfileReport._render_html\u001b[1;34m(self)\u001b[0m\n\u001b[0;32m    377\u001b[0m \u001b[38;5;28;01mdef\u001b[39;00m \u001b[38;5;21m_render_html\u001b[39m(\u001b[38;5;28mself\u001b[39m) \u001b[38;5;241m-\u001b[39m\u001b[38;5;241m>\u001b[39m \u001b[38;5;28mstr\u001b[39m:\n\u001b[0;32m    378\u001b[0m     \u001b[38;5;28;01mfrom\u001b[39;00m \u001b[38;5;21;01mydata_profiling\u001b[39;00m\u001b[38;5;21;01m.\u001b[39;00m\u001b[38;5;21;01mreport\u001b[39;00m\u001b[38;5;21;01m.\u001b[39;00m\u001b[38;5;21;01mpresentation\u001b[39;00m\u001b[38;5;21;01m.\u001b[39;00m\u001b[38;5;21;01mflavours\u001b[39;00m \u001b[38;5;28;01mimport\u001b[39;00m HTMLReport\n\u001b[1;32m--> 380\u001b[0m     report \u001b[38;5;241m=\u001b[39m \u001b[38;5;28;43mself\u001b[39;49m\u001b[38;5;241;43m.\u001b[39;49m\u001b[43mreport\u001b[49m\n\u001b[0;32m    382\u001b[0m     \u001b[38;5;28;01mwith\u001b[39;00m tqdm(\n\u001b[0;32m    383\u001b[0m         total\u001b[38;5;241m=\u001b[39m\u001b[38;5;241m1\u001b[39m, desc\u001b[38;5;241m=\u001b[39m\u001b[38;5;124m\"\u001b[39m\u001b[38;5;124mRender HTML\u001b[39m\u001b[38;5;124m\"\u001b[39m, disable\u001b[38;5;241m=\u001b[39m\u001b[38;5;129;01mnot\u001b[39;00m \u001b[38;5;28mself\u001b[39m\u001b[38;5;241m.\u001b[39mconfig\u001b[38;5;241m.\u001b[39mprogress_bar\n\u001b[0;32m    384\u001b[0m     ) \u001b[38;5;28;01mas\u001b[39;00m pbar:\n\u001b[0;32m    385\u001b[0m         html \u001b[38;5;241m=\u001b[39m HTMLReport(copy\u001b[38;5;241m.\u001b[39mdeepcopy(report))\u001b[38;5;241m.\u001b[39mrender(\n\u001b[0;32m    386\u001b[0m             nav\u001b[38;5;241m=\u001b[39m\u001b[38;5;28mself\u001b[39m\u001b[38;5;241m.\u001b[39mconfig\u001b[38;5;241m.\u001b[39mhtml\u001b[38;5;241m.\u001b[39mnavbar_show,\n\u001b[0;32m    387\u001b[0m             offline\u001b[38;5;241m=\u001b[39m\u001b[38;5;28mself\u001b[39m\u001b[38;5;241m.\u001b[39mconfig\u001b[38;5;241m.\u001b[39mhtml\u001b[38;5;241m.\u001b[39muse_local_assets,\n\u001b[1;32m   (...)\u001b[0m\n\u001b[0;32m    395\u001b[0m             version\u001b[38;5;241m=\u001b[39m\u001b[38;5;28mself\u001b[39m\u001b[38;5;241m.\u001b[39mdescription_set[\u001b[38;5;124m\"\u001b[39m\u001b[38;5;124mpackage\u001b[39m\u001b[38;5;124m\"\u001b[39m][\u001b[38;5;124m\"\u001b[39m\u001b[38;5;124mydata_profiling_version\u001b[39m\u001b[38;5;124m\"\u001b[39m],\n\u001b[0;32m    396\u001b[0m         )\n",
      "File \u001b[1;32mD:\\Anaconda3\\envs\\data-science\\lib\\site-packages\\typeguard\\__init__.py:1033\u001b[0m, in \u001b[0;36mtypechecked.<locals>.wrapper\u001b[1;34m(*args, **kwargs)\u001b[0m\n\u001b[0;32m   1031\u001b[0m memo \u001b[38;5;241m=\u001b[39m _CallMemo(python_func, _localns, args\u001b[38;5;241m=\u001b[39margs, kwargs\u001b[38;5;241m=\u001b[39mkwargs)\n\u001b[0;32m   1032\u001b[0m check_argument_types(memo)\n\u001b[1;32m-> 1033\u001b[0m retval \u001b[38;5;241m=\u001b[39m \u001b[43mfunc\u001b[49m\u001b[43m(\u001b[49m\u001b[38;5;241;43m*\u001b[39;49m\u001b[43margs\u001b[49m\u001b[43m,\u001b[49m\u001b[43m \u001b[49m\u001b[38;5;241;43m*\u001b[39;49m\u001b[38;5;241;43m*\u001b[39;49m\u001b[43mkwargs\u001b[49m\u001b[43m)\u001b[49m\n\u001b[0;32m   1034\u001b[0m \u001b[38;5;28;01mtry\u001b[39;00m:\n\u001b[0;32m   1035\u001b[0m     check_return_type(retval, memo)\n",
      "File \u001b[1;32mD:\\Anaconda3\\envs\\data-science\\lib\\site-packages\\ydata_profiling\\profile_report.py:266\u001b[0m, in \u001b[0;36mProfileReport.report\u001b[1;34m(self)\u001b[0m\n\u001b[0;32m    263\u001b[0m \u001b[38;5;129m@property\u001b[39m\n\u001b[0;32m    264\u001b[0m \u001b[38;5;28;01mdef\u001b[39;00m \u001b[38;5;21mreport\u001b[39m(\u001b[38;5;28mself\u001b[39m) \u001b[38;5;241m-\u001b[39m\u001b[38;5;241m>\u001b[39m Root:\n\u001b[0;32m    265\u001b[0m     \u001b[38;5;28;01mif\u001b[39;00m \u001b[38;5;28mself\u001b[39m\u001b[38;5;241m.\u001b[39m_report \u001b[38;5;129;01mis\u001b[39;00m \u001b[38;5;28;01mNone\u001b[39;00m:\n\u001b[1;32m--> 266\u001b[0m         \u001b[38;5;28mself\u001b[39m\u001b[38;5;241m.\u001b[39m_report \u001b[38;5;241m=\u001b[39m get_report_structure(\u001b[38;5;28mself\u001b[39m\u001b[38;5;241m.\u001b[39mconfig, \u001b[38;5;28;43mself\u001b[39;49m\u001b[38;5;241;43m.\u001b[39;49m\u001b[43mdescription_set\u001b[49m)\n\u001b[0;32m    267\u001b[0m     \u001b[38;5;28;01mreturn\u001b[39;00m \u001b[38;5;28mself\u001b[39m\u001b[38;5;241m.\u001b[39m_report\n",
      "File \u001b[1;32mD:\\Anaconda3\\envs\\data-science\\lib\\site-packages\\typeguard\\__init__.py:1033\u001b[0m, in \u001b[0;36mtypechecked.<locals>.wrapper\u001b[1;34m(*args, **kwargs)\u001b[0m\n\u001b[0;32m   1031\u001b[0m memo \u001b[38;5;241m=\u001b[39m _CallMemo(python_func, _localns, args\u001b[38;5;241m=\u001b[39margs, kwargs\u001b[38;5;241m=\u001b[39mkwargs)\n\u001b[0;32m   1032\u001b[0m check_argument_types(memo)\n\u001b[1;32m-> 1033\u001b[0m retval \u001b[38;5;241m=\u001b[39m \u001b[43mfunc\u001b[49m\u001b[43m(\u001b[49m\u001b[38;5;241;43m*\u001b[39;49m\u001b[43margs\u001b[49m\u001b[43m,\u001b[49m\u001b[43m \u001b[49m\u001b[38;5;241;43m*\u001b[39;49m\u001b[38;5;241;43m*\u001b[39;49m\u001b[43mkwargs\u001b[49m\u001b[43m)\u001b[49m\n\u001b[0;32m   1034\u001b[0m \u001b[38;5;28;01mtry\u001b[39;00m:\n\u001b[0;32m   1035\u001b[0m     check_return_type(retval, memo)\n",
      "File \u001b[1;32mD:\\Anaconda3\\envs\\data-science\\lib\\site-packages\\ydata_profiling\\profile_report.py:248\u001b[0m, in \u001b[0;36mProfileReport.description_set\u001b[1;34m(self)\u001b[0m\n\u001b[0;32m    245\u001b[0m \u001b[38;5;129m@property\u001b[39m\n\u001b[0;32m    246\u001b[0m \u001b[38;5;28;01mdef\u001b[39;00m \u001b[38;5;21mdescription_set\u001b[39m(\u001b[38;5;28mself\u001b[39m) \u001b[38;5;241m-\u001b[39m\u001b[38;5;241m>\u001b[39m Dict[\u001b[38;5;28mstr\u001b[39m, Any]:\n\u001b[0;32m    247\u001b[0m     \u001b[38;5;28;01mif\u001b[39;00m \u001b[38;5;28mself\u001b[39m\u001b[38;5;241m.\u001b[39m_description_set \u001b[38;5;129;01mis\u001b[39;00m \u001b[38;5;28;01mNone\u001b[39;00m:\n\u001b[1;32m--> 248\u001b[0m         \u001b[38;5;28mself\u001b[39m\u001b[38;5;241m.\u001b[39m_description_set \u001b[38;5;241m=\u001b[39m \u001b[43mdescribe_df\u001b[49m\u001b[43m(\u001b[49m\n\u001b[0;32m    249\u001b[0m \u001b[43m            \u001b[49m\u001b[38;5;28;43mself\u001b[39;49m\u001b[38;5;241;43m.\u001b[39;49m\u001b[43mconfig\u001b[49m\u001b[43m,\u001b[49m\n\u001b[0;32m    250\u001b[0m \u001b[43m            \u001b[49m\u001b[38;5;28;43mself\u001b[39;49m\u001b[38;5;241;43m.\u001b[39;49m\u001b[43mdf\u001b[49m\u001b[43m,\u001b[49m\n\u001b[0;32m    251\u001b[0m \u001b[43m            \u001b[49m\u001b[38;5;28;43mself\u001b[39;49m\u001b[38;5;241;43m.\u001b[39;49m\u001b[43msummarizer\u001b[49m\u001b[43m,\u001b[49m\n\u001b[0;32m    252\u001b[0m \u001b[43m            \u001b[49m\u001b[38;5;28;43mself\u001b[39;49m\u001b[38;5;241;43m.\u001b[39;49m\u001b[43mtypeset\u001b[49m\u001b[43m,\u001b[49m\n\u001b[0;32m    253\u001b[0m \u001b[43m            \u001b[49m\u001b[38;5;28;43mself\u001b[39;49m\u001b[38;5;241;43m.\u001b[39;49m\u001b[43m_sample\u001b[49m\u001b[43m,\u001b[49m\n\u001b[0;32m    254\u001b[0m \u001b[43m        \u001b[49m\u001b[43m)\u001b[49m\n\u001b[0;32m    255\u001b[0m     \u001b[38;5;28;01mreturn\u001b[39;00m \u001b[38;5;28mself\u001b[39m\u001b[38;5;241m.\u001b[39m_description_set\n",
      "File \u001b[1;32mD:\\Anaconda3\\envs\\data-science\\lib\\site-packages\\ydata_profiling\\model\\describe.py:71\u001b[0m, in \u001b[0;36mdescribe\u001b[1;34m(config, df, summarizer, typeset, sample)\u001b[0m\n\u001b[0;32m     69\u001b[0m \u001b[38;5;66;03m# Variable-specific\u001b[39;00m\n\u001b[0;32m     70\u001b[0m pbar\u001b[38;5;241m.\u001b[39mtotal \u001b[38;5;241m+\u001b[39m\u001b[38;5;241m=\u001b[39m \u001b[38;5;28mlen\u001b[39m(df\u001b[38;5;241m.\u001b[39mcolumns)\n\u001b[1;32m---> 71\u001b[0m series_description \u001b[38;5;241m=\u001b[39m \u001b[43mget_series_descriptions\u001b[49m\u001b[43m(\u001b[49m\n\u001b[0;32m     72\u001b[0m \u001b[43m    \u001b[49m\u001b[43mconfig\u001b[49m\u001b[43m,\u001b[49m\u001b[43m \u001b[49m\u001b[43mdf\u001b[49m\u001b[43m,\u001b[49m\u001b[43m \u001b[49m\u001b[43msummarizer\u001b[49m\u001b[43m,\u001b[49m\u001b[43m \u001b[49m\u001b[43mtypeset\u001b[49m\u001b[43m,\u001b[49m\u001b[43m \u001b[49m\u001b[43mpbar\u001b[49m\n\u001b[0;32m     73\u001b[0m \u001b[43m\u001b[49m\u001b[43m)\u001b[49m\n\u001b[0;32m     75\u001b[0m pbar\u001b[38;5;241m.\u001b[39mset_postfix_str(\u001b[38;5;124m\"\u001b[39m\u001b[38;5;124mGet variable types\u001b[39m\u001b[38;5;124m\"\u001b[39m)\n\u001b[0;32m     76\u001b[0m pbar\u001b[38;5;241m.\u001b[39mtotal \u001b[38;5;241m+\u001b[39m\u001b[38;5;241m=\u001b[39m \u001b[38;5;241m1\u001b[39m\n",
      "File \u001b[1;32mD:\\Anaconda3\\envs\\data-science\\lib\\site-packages\\multimethod\\__init__.py:315\u001b[0m, in \u001b[0;36mmultimethod.__call__\u001b[1;34m(self, *args, **kwargs)\u001b[0m\n\u001b[0;32m    313\u001b[0m func \u001b[38;5;241m=\u001b[39m \u001b[38;5;28mself\u001b[39m[\u001b[38;5;28mtuple\u001b[39m(func(arg) \u001b[38;5;28;01mfor\u001b[39;00m func, arg \u001b[38;5;129;01min\u001b[39;00m \u001b[38;5;28mzip\u001b[39m(\u001b[38;5;28mself\u001b[39m\u001b[38;5;241m.\u001b[39mtype_checkers, args))]\n\u001b[0;32m    314\u001b[0m \u001b[38;5;28;01mtry\u001b[39;00m:\n\u001b[1;32m--> 315\u001b[0m     \u001b[38;5;28;01mreturn\u001b[39;00m \u001b[43mfunc\u001b[49m\u001b[43m(\u001b[49m\u001b[38;5;241;43m*\u001b[39;49m\u001b[43margs\u001b[49m\u001b[43m,\u001b[49m\u001b[43m \u001b[49m\u001b[38;5;241;43m*\u001b[39;49m\u001b[38;5;241;43m*\u001b[39;49m\u001b[43mkwargs\u001b[49m\u001b[43m)\u001b[49m\n\u001b[0;32m    316\u001b[0m \u001b[38;5;28;01mexcept\u001b[39;00m \u001b[38;5;167;01mTypeError\u001b[39;00m \u001b[38;5;28;01mas\u001b[39;00m ex:\n\u001b[0;32m    317\u001b[0m     \u001b[38;5;28;01mraise\u001b[39;00m DispatchError(\u001b[38;5;124mf\u001b[39m\u001b[38;5;124m\"\u001b[39m\u001b[38;5;124mFunction \u001b[39m\u001b[38;5;132;01m{\u001b[39;00mfunc\u001b[38;5;241m.\u001b[39m\u001b[38;5;18m__code__\u001b[39m\u001b[38;5;132;01m}\u001b[39;00m\u001b[38;5;124m\"\u001b[39m) \u001b[38;5;28;01mfrom\u001b[39;00m \u001b[38;5;21;01mex\u001b[39;00m\n",
      "File \u001b[1;32mD:\\Anaconda3\\envs\\data-science\\lib\\site-packages\\ydata_profiling\\model\\pandas\\summary_pandas.py:99\u001b[0m, in \u001b[0;36mpandas_get_series_descriptions\u001b[1;34m(config, df, summarizer, typeset, pbar)\u001b[0m\n\u001b[0;32m     96\u001b[0m \u001b[38;5;28;01melse\u001b[39;00m:\n\u001b[0;32m     97\u001b[0m     \u001b[38;5;66;03m# TODO: use `Pool` for Linux-based systems\u001b[39;00m\n\u001b[0;32m     98\u001b[0m     \u001b[38;5;28;01mwith\u001b[39;00m multiprocessing\u001b[38;5;241m.\u001b[39mpool\u001b[38;5;241m.\u001b[39mThreadPool(pool_size) \u001b[38;5;28;01mas\u001b[39;00m executor:\n\u001b[1;32m---> 99\u001b[0m         \u001b[38;5;28;01mfor\u001b[39;00m i, (column, description) \u001b[38;5;129;01min\u001b[39;00m \u001b[38;5;28menumerate\u001b[39m(\n\u001b[0;32m    100\u001b[0m             executor\u001b[38;5;241m.\u001b[39mimap_unordered(multiprocess_1d, args)\n\u001b[0;32m    101\u001b[0m         ):\n\u001b[0;32m    102\u001b[0m             pbar\u001b[38;5;241m.\u001b[39mset_postfix_str(\u001b[38;5;124mf\u001b[39m\u001b[38;5;124m\"\u001b[39m\u001b[38;5;124mDescribe variable:\u001b[39m\u001b[38;5;132;01m{\u001b[39;00mcolumn\u001b[38;5;132;01m}\u001b[39;00m\u001b[38;5;124m\"\u001b[39m)\n\u001b[0;32m    103\u001b[0m             series_description[column] \u001b[38;5;241m=\u001b[39m description\n",
      "File \u001b[1;32mD:\\Anaconda3\\envs\\data-science\\lib\\multiprocessing\\pool.py:868\u001b[0m, in \u001b[0;36mIMapIterator.next\u001b[1;34m(self, timeout)\u001b[0m\n\u001b[0;32m    866\u001b[0m \u001b[38;5;28;01mif\u001b[39;00m success:\n\u001b[0;32m    867\u001b[0m     \u001b[38;5;28;01mreturn\u001b[39;00m value\n\u001b[1;32m--> 868\u001b[0m \u001b[38;5;28;01mraise\u001b[39;00m value\n",
      "File \u001b[1;32mD:\\Anaconda3\\envs\\data-science\\lib\\multiprocessing\\pool.py:125\u001b[0m, in \u001b[0;36mworker\u001b[1;34m(inqueue, outqueue, initializer, initargs, maxtasks, wrap_exception)\u001b[0m\n\u001b[0;32m    123\u001b[0m job, i, func, args, kwds \u001b[38;5;241m=\u001b[39m task\n\u001b[0;32m    124\u001b[0m \u001b[38;5;28;01mtry\u001b[39;00m:\n\u001b[1;32m--> 125\u001b[0m     result \u001b[38;5;241m=\u001b[39m (\u001b[38;5;28;01mTrue\u001b[39;00m, \u001b[43mfunc\u001b[49m\u001b[43m(\u001b[49m\u001b[38;5;241;43m*\u001b[39;49m\u001b[43margs\u001b[49m\u001b[43m,\u001b[49m\u001b[43m \u001b[49m\u001b[38;5;241;43m*\u001b[39;49m\u001b[38;5;241;43m*\u001b[39;49m\u001b[43mkwds\u001b[49m\u001b[43m)\u001b[49m)\n\u001b[0;32m    126\u001b[0m \u001b[38;5;28;01mexcept\u001b[39;00m \u001b[38;5;167;01mException\u001b[39;00m \u001b[38;5;28;01mas\u001b[39;00m e:\n\u001b[0;32m    127\u001b[0m     \u001b[38;5;28;01mif\u001b[39;00m wrap_exception \u001b[38;5;129;01mand\u001b[39;00m func \u001b[38;5;129;01mis\u001b[39;00m \u001b[38;5;129;01mnot\u001b[39;00m _helper_reraises_exception:\n",
      "File \u001b[1;32mD:\\Anaconda3\\envs\\data-science\\lib\\site-packages\\ydata_profiling\\model\\pandas\\summary_pandas.py:79\u001b[0m, in \u001b[0;36mpandas_get_series_descriptions.<locals>.multiprocess_1d\u001b[1;34m(args)\u001b[0m\n\u001b[0;32m     69\u001b[0m \u001b[38;5;124;03m\"\"\"Wrapper to process series in parallel.\u001b[39;00m\n\u001b[0;32m     70\u001b[0m \n\u001b[0;32m     71\u001b[0m \u001b[38;5;124;03mArgs:\u001b[39;00m\n\u001b[1;32m   (...)\u001b[0m\n\u001b[0;32m     76\u001b[0m \u001b[38;5;124;03m    A tuple with column and the series description.\u001b[39;00m\n\u001b[0;32m     77\u001b[0m \u001b[38;5;124;03m\"\"\"\u001b[39;00m\n\u001b[0;32m     78\u001b[0m column, series \u001b[38;5;241m=\u001b[39m args\n\u001b[1;32m---> 79\u001b[0m \u001b[38;5;28;01mreturn\u001b[39;00m column, \u001b[43mdescribe_1d\u001b[49m\u001b[43m(\u001b[49m\u001b[43mconfig\u001b[49m\u001b[43m,\u001b[49m\u001b[43m \u001b[49m\u001b[43mseries\u001b[49m\u001b[43m,\u001b[49m\u001b[43m \u001b[49m\u001b[43msummarizer\u001b[49m\u001b[43m,\u001b[49m\u001b[43m \u001b[49m\u001b[43mtypeset\u001b[49m\u001b[43m)\u001b[49m\n",
      "File \u001b[1;32mD:\\Anaconda3\\envs\\data-science\\lib\\site-packages\\multimethod\\__init__.py:315\u001b[0m, in \u001b[0;36mmultimethod.__call__\u001b[1;34m(self, *args, **kwargs)\u001b[0m\n\u001b[0;32m    313\u001b[0m func \u001b[38;5;241m=\u001b[39m \u001b[38;5;28mself\u001b[39m[\u001b[38;5;28mtuple\u001b[39m(func(arg) \u001b[38;5;28;01mfor\u001b[39;00m func, arg \u001b[38;5;129;01min\u001b[39;00m \u001b[38;5;28mzip\u001b[39m(\u001b[38;5;28mself\u001b[39m\u001b[38;5;241m.\u001b[39mtype_checkers, args))]\n\u001b[0;32m    314\u001b[0m \u001b[38;5;28;01mtry\u001b[39;00m:\n\u001b[1;32m--> 315\u001b[0m     \u001b[38;5;28;01mreturn\u001b[39;00m \u001b[43mfunc\u001b[49m\u001b[43m(\u001b[49m\u001b[38;5;241;43m*\u001b[39;49m\u001b[43margs\u001b[49m\u001b[43m,\u001b[49m\u001b[43m \u001b[49m\u001b[38;5;241;43m*\u001b[39;49m\u001b[38;5;241;43m*\u001b[39;49m\u001b[43mkwargs\u001b[49m\u001b[43m)\u001b[49m\n\u001b[0;32m    316\u001b[0m \u001b[38;5;28;01mexcept\u001b[39;00m \u001b[38;5;167;01mTypeError\u001b[39;00m \u001b[38;5;28;01mas\u001b[39;00m ex:\n\u001b[0;32m    317\u001b[0m     \u001b[38;5;28;01mraise\u001b[39;00m DispatchError(\u001b[38;5;124mf\u001b[39m\u001b[38;5;124m\"\u001b[39m\u001b[38;5;124mFunction \u001b[39m\u001b[38;5;132;01m{\u001b[39;00mfunc\u001b[38;5;241m.\u001b[39m\u001b[38;5;18m__code__\u001b[39m\u001b[38;5;132;01m}\u001b[39;00m\u001b[38;5;124m\"\u001b[39m) \u001b[38;5;28;01mfrom\u001b[39;00m \u001b[38;5;21;01mex\u001b[39;00m\n",
      "File \u001b[1;32mD:\\Anaconda3\\envs\\data-science\\lib\\site-packages\\ydata_profiling\\model\\pandas\\summary_pandas.py:57\u001b[0m, in \u001b[0;36mpandas_describe_1d\u001b[1;34m(config, series, summarizer, typeset)\u001b[0m\n\u001b[0;32m     54\u001b[0m     vtype \u001b[38;5;241m=\u001b[39m typeset\u001b[38;5;241m.\u001b[39mdetect_type(series)\n\u001b[0;32m     56\u001b[0m typeset\u001b[38;5;241m.\u001b[39mtype_schema[series\u001b[38;5;241m.\u001b[39mname] \u001b[38;5;241m=\u001b[39m vtype\n\u001b[1;32m---> 57\u001b[0m \u001b[38;5;28;01mreturn\u001b[39;00m \u001b[43msummarizer\u001b[49m\u001b[38;5;241;43m.\u001b[39;49m\u001b[43msummarize\u001b[49m\u001b[43m(\u001b[49m\u001b[43mconfig\u001b[49m\u001b[43m,\u001b[49m\u001b[43m \u001b[49m\u001b[43mseries\u001b[49m\u001b[43m,\u001b[49m\u001b[43m \u001b[49m\u001b[43mdtype\u001b[49m\u001b[38;5;241;43m=\u001b[39;49m\u001b[43mvtype\u001b[49m\u001b[43m)\u001b[49m\n",
      "File \u001b[1;32mD:\\Anaconda3\\envs\\data-science\\lib\\site-packages\\ydata_profiling\\model\\summarizer.py:39\u001b[0m, in \u001b[0;36mBaseSummarizer.summarize\u001b[1;34m(self, config, series, dtype)\u001b[0m\n\u001b[0;32m     31\u001b[0m \u001b[38;5;28;01mdef\u001b[39;00m \u001b[38;5;21msummarize\u001b[39m(\n\u001b[0;32m     32\u001b[0m     \u001b[38;5;28mself\u001b[39m, config: Settings, series: pd\u001b[38;5;241m.\u001b[39mSeries, dtype: Type[VisionsBaseType]\n\u001b[0;32m     33\u001b[0m ) \u001b[38;5;241m-\u001b[39m\u001b[38;5;241m>\u001b[39m \u001b[38;5;28mdict\u001b[39m:\n\u001b[0;32m     34\u001b[0m     \u001b[38;5;124;03m\"\"\"\u001b[39;00m\n\u001b[0;32m     35\u001b[0m \n\u001b[0;32m     36\u001b[0m \u001b[38;5;124;03m    Returns:\u001b[39;00m\n\u001b[0;32m     37\u001b[0m \u001b[38;5;124;03m        object:\u001b[39;00m\n\u001b[0;32m     38\u001b[0m \u001b[38;5;124;03m    \"\"\"\u001b[39;00m\n\u001b[1;32m---> 39\u001b[0m     _, _, summary \u001b[38;5;241m=\u001b[39m \u001b[38;5;28;43mself\u001b[39;49m\u001b[38;5;241;43m.\u001b[39;49m\u001b[43mhandle\u001b[49m\u001b[43m(\u001b[49m\u001b[38;5;28;43mstr\u001b[39;49m\u001b[43m(\u001b[49m\u001b[43mdtype\u001b[49m\u001b[43m)\u001b[49m\u001b[43m,\u001b[49m\u001b[43m \u001b[49m\u001b[43mconfig\u001b[49m\u001b[43m,\u001b[49m\u001b[43m \u001b[49m\u001b[43mseries\u001b[49m\u001b[43m,\u001b[49m\u001b[43m \u001b[49m\u001b[43m{\u001b[49m\u001b[38;5;124;43m\"\u001b[39;49m\u001b[38;5;124;43mtype\u001b[39;49m\u001b[38;5;124;43m\"\u001b[39;49m\u001b[43m:\u001b[49m\u001b[43m \u001b[49m\u001b[38;5;28;43mstr\u001b[39;49m\u001b[43m(\u001b[49m\u001b[43mdtype\u001b[49m\u001b[43m)\u001b[49m\u001b[43m}\u001b[49m\u001b[43m)\u001b[49m\n\u001b[0;32m     40\u001b[0m     \u001b[38;5;28;01mreturn\u001b[39;00m summary\n",
      "File \u001b[1;32mD:\\Anaconda3\\envs\\data-science\\lib\\site-packages\\ydata_profiling\\model\\handler.py:62\u001b[0m, in \u001b[0;36mHandler.handle\u001b[1;34m(self, dtype, *args, **kwargs)\u001b[0m\n\u001b[0;32m     60\u001b[0m funcs \u001b[38;5;241m=\u001b[39m \u001b[38;5;28mself\u001b[39m\u001b[38;5;241m.\u001b[39mmapping\u001b[38;5;241m.\u001b[39mget(dtype, [])\n\u001b[0;32m     61\u001b[0m op \u001b[38;5;241m=\u001b[39m compose(funcs)\n\u001b[1;32m---> 62\u001b[0m \u001b[38;5;28;01mreturn\u001b[39;00m \u001b[43mop\u001b[49m\u001b[43m(\u001b[49m\u001b[38;5;241;43m*\u001b[39;49m\u001b[43margs\u001b[49m\u001b[43m)\u001b[49m\n",
      "File \u001b[1;32mD:\\Anaconda3\\envs\\data-science\\lib\\site-packages\\ydata_profiling\\model\\handler.py:21\u001b[0m, in \u001b[0;36mcompose.<locals>.func.<locals>.func2\u001b[1;34m(*x)\u001b[0m\n\u001b[0;32m     19\u001b[0m     \u001b[38;5;28;01mreturn\u001b[39;00m f(\u001b[38;5;241m*\u001b[39mx)\n\u001b[0;32m     20\u001b[0m \u001b[38;5;28;01melse\u001b[39;00m:\n\u001b[1;32m---> 21\u001b[0m     \u001b[38;5;28;01mreturn\u001b[39;00m \u001b[43mf\u001b[49m\u001b[43m(\u001b[49m\u001b[38;5;241;43m*\u001b[39;49m\u001b[43mres\u001b[49m\u001b[43m)\u001b[49m\n",
      "File \u001b[1;32mD:\\Anaconda3\\envs\\data-science\\lib\\site-packages\\ydata_profiling\\model\\handler.py:21\u001b[0m, in \u001b[0;36mcompose.<locals>.func.<locals>.func2\u001b[1;34m(*x)\u001b[0m\n\u001b[0;32m     19\u001b[0m     \u001b[38;5;28;01mreturn\u001b[39;00m f(\u001b[38;5;241m*\u001b[39mx)\n\u001b[0;32m     20\u001b[0m \u001b[38;5;28;01melse\u001b[39;00m:\n\u001b[1;32m---> 21\u001b[0m     \u001b[38;5;28;01mreturn\u001b[39;00m \u001b[43mf\u001b[49m\u001b[43m(\u001b[49m\u001b[38;5;241;43m*\u001b[39;49m\u001b[43mres\u001b[49m\u001b[43m)\u001b[49m\n",
      "    \u001b[1;31m[... skipping similar frames: compose.<locals>.func.<locals>.func2 at line 21 (1 times)]\u001b[0m\n",
      "File \u001b[1;32mD:\\Anaconda3\\envs\\data-science\\lib\\site-packages\\ydata_profiling\\model\\handler.py:21\u001b[0m, in \u001b[0;36mcompose.<locals>.func.<locals>.func2\u001b[1;34m(*x)\u001b[0m\n\u001b[0;32m     19\u001b[0m     \u001b[38;5;28;01mreturn\u001b[39;00m f(\u001b[38;5;241m*\u001b[39mx)\n\u001b[0;32m     20\u001b[0m \u001b[38;5;28;01melse\u001b[39;00m:\n\u001b[1;32m---> 21\u001b[0m     \u001b[38;5;28;01mreturn\u001b[39;00m \u001b[43mf\u001b[49m\u001b[43m(\u001b[49m\u001b[38;5;241;43m*\u001b[39;49m\u001b[43mres\u001b[49m\u001b[43m)\u001b[49m\n",
      "File \u001b[1;32mD:\\Anaconda3\\envs\\data-science\\lib\\site-packages\\ydata_profiling\\model\\handler.py:17\u001b[0m, in \u001b[0;36mcompose.<locals>.func.<locals>.func2\u001b[1;34m(*x)\u001b[0m\n\u001b[0;32m     16\u001b[0m \u001b[38;5;28;01mdef\u001b[39;00m \u001b[38;5;21mfunc2\u001b[39m(\u001b[38;5;241m*\u001b[39mx) \u001b[38;5;241m-\u001b[39m\u001b[38;5;241m>\u001b[39m Any:\n\u001b[1;32m---> 17\u001b[0m     res \u001b[38;5;241m=\u001b[39m \u001b[43mg\u001b[49m\u001b[43m(\u001b[49m\u001b[38;5;241;43m*\u001b[39;49m\u001b[43mx\u001b[49m\u001b[43m)\u001b[49m\n\u001b[0;32m     18\u001b[0m     \u001b[38;5;28;01mif\u001b[39;00m \u001b[38;5;28mtype\u001b[39m(res) \u001b[38;5;241m==\u001b[39m \u001b[38;5;28mbool\u001b[39m:\n\u001b[0;32m     19\u001b[0m         \u001b[38;5;28;01mreturn\u001b[39;00m f(\u001b[38;5;241m*\u001b[39mx)\n",
      "File \u001b[1;32mD:\\Anaconda3\\envs\\data-science\\lib\\site-packages\\multimethod\\__init__.py:315\u001b[0m, in \u001b[0;36mmultimethod.__call__\u001b[1;34m(self, *args, **kwargs)\u001b[0m\n\u001b[0;32m    313\u001b[0m func \u001b[38;5;241m=\u001b[39m \u001b[38;5;28mself\u001b[39m[\u001b[38;5;28mtuple\u001b[39m(func(arg) \u001b[38;5;28;01mfor\u001b[39;00m func, arg \u001b[38;5;129;01min\u001b[39;00m \u001b[38;5;28mzip\u001b[39m(\u001b[38;5;28mself\u001b[39m\u001b[38;5;241m.\u001b[39mtype_checkers, args))]\n\u001b[0;32m    314\u001b[0m \u001b[38;5;28;01mtry\u001b[39;00m:\n\u001b[1;32m--> 315\u001b[0m     \u001b[38;5;28;01mreturn\u001b[39;00m \u001b[43mfunc\u001b[49m\u001b[43m(\u001b[49m\u001b[38;5;241;43m*\u001b[39;49m\u001b[43margs\u001b[49m\u001b[43m,\u001b[49m\u001b[43m \u001b[49m\u001b[38;5;241;43m*\u001b[39;49m\u001b[38;5;241;43m*\u001b[39;49m\u001b[43mkwargs\u001b[49m\u001b[43m)\u001b[49m\n\u001b[0;32m    316\u001b[0m \u001b[38;5;28;01mexcept\u001b[39;00m \u001b[38;5;167;01mTypeError\u001b[39;00m \u001b[38;5;28;01mas\u001b[39;00m ex:\n\u001b[0;32m    317\u001b[0m     \u001b[38;5;28;01mraise\u001b[39;00m DispatchError(\u001b[38;5;124mf\u001b[39m\u001b[38;5;124m\"\u001b[39m\u001b[38;5;124mFunction \u001b[39m\u001b[38;5;132;01m{\u001b[39;00mfunc\u001b[38;5;241m.\u001b[39m\u001b[38;5;18m__code__\u001b[39m\u001b[38;5;132;01m}\u001b[39;00m\u001b[38;5;124m\"\u001b[39m) \u001b[38;5;28;01mfrom\u001b[39;00m \u001b[38;5;21;01mex\u001b[39;00m\n",
      "File \u001b[1;32mD:\\Anaconda3\\envs\\data-science\\lib\\site-packages\\ydata_profiling\\model\\summary_algorithms.py:65\u001b[0m, in \u001b[0;36mseries_hashable.<locals>.inner\u001b[1;34m(config, series, summary)\u001b[0m\n\u001b[0;32m     63\u001b[0m \u001b[38;5;28;01mif\u001b[39;00m \u001b[38;5;129;01mnot\u001b[39;00m summary[\u001b[38;5;124m\"\u001b[39m\u001b[38;5;124mhashable\u001b[39m\u001b[38;5;124m\"\u001b[39m]:\n\u001b[0;32m     64\u001b[0m     \u001b[38;5;28;01mreturn\u001b[39;00m config, series, summary\n\u001b[1;32m---> 65\u001b[0m \u001b[38;5;28;01mreturn\u001b[39;00m \u001b[43mfn\u001b[49m\u001b[43m(\u001b[49m\u001b[43mconfig\u001b[49m\u001b[43m,\u001b[49m\u001b[43m \u001b[49m\u001b[43mseries\u001b[49m\u001b[43m,\u001b[49m\u001b[43m \u001b[49m\u001b[43msummary\u001b[49m\u001b[43m)\u001b[49m\n",
      "File \u001b[1;32mD:\\Anaconda3\\envs\\data-science\\lib\\site-packages\\ydata_profiling\\model\\summary_algorithms.py:82\u001b[0m, in \u001b[0;36mseries_handle_nulls.<locals>.inner\u001b[1;34m(config, series, summary)\u001b[0m\n\u001b[0;32m     79\u001b[0m \u001b[38;5;28;01mif\u001b[39;00m series\u001b[38;5;241m.\u001b[39mhasnans:\n\u001b[0;32m     80\u001b[0m     series \u001b[38;5;241m=\u001b[39m series\u001b[38;5;241m.\u001b[39mdropna()\n\u001b[1;32m---> 82\u001b[0m \u001b[38;5;28;01mreturn\u001b[39;00m \u001b[43mfn\u001b[49m\u001b[43m(\u001b[49m\u001b[43mconfig\u001b[49m\u001b[43m,\u001b[49m\u001b[43m \u001b[49m\u001b[43mseries\u001b[49m\u001b[43m,\u001b[49m\u001b[43m \u001b[49m\u001b[43msummary\u001b[49m\u001b[43m)\u001b[49m\n",
      "File \u001b[1;32mD:\\Anaconda3\\envs\\data-science\\lib\\site-packages\\ydata_profiling\\model\\pandas\\describe_timeseries_pandas.py:162\u001b[0m, in \u001b[0;36mpandas_describe_timeseries_1d\u001b[1;34m(config, series, summary)\u001b[0m\n\u001b[0;32m    150\u001b[0m \u001b[38;5;124;03m\"\"\"Describe a timeseries.\u001b[39;00m\n\u001b[0;32m    151\u001b[0m \n\u001b[0;32m    152\u001b[0m \u001b[38;5;124;03mArgs:\u001b[39;00m\n\u001b[1;32m   (...)\u001b[0m\n\u001b[0;32m    158\u001b[0m \u001b[38;5;124;03m    A dict containing calculated series description values.\u001b[39;00m\n\u001b[0;32m    159\u001b[0m \u001b[38;5;124;03m\"\"\"\u001b[39;00m\n\u001b[0;32m    160\u001b[0m config, series, stats \u001b[38;5;241m=\u001b[39m describe_numeric_1d(config, series, summary)\n\u001b[1;32m--> 162\u001b[0m stats[\u001b[38;5;124m\"\u001b[39m\u001b[38;5;124mseasonal\u001b[39m\u001b[38;5;124m\"\u001b[39m] \u001b[38;5;241m=\u001b[39m \u001b[43mseasonality_test\u001b[49m\u001b[43m(\u001b[49m\u001b[43mseries\u001b[49m\u001b[43m)\u001b[49m[\u001b[38;5;124m\"\u001b[39m\u001b[38;5;124mseasonality_presence\u001b[39m\u001b[38;5;124m\"\u001b[39m]\n\u001b[0;32m    163\u001b[0m is_stationary, p_value \u001b[38;5;241m=\u001b[39m stationarity_test(config, series)\n\u001b[0;32m    164\u001b[0m stats[\u001b[38;5;124m\"\u001b[39m\u001b[38;5;124mstationary\u001b[39m\u001b[38;5;124m\"\u001b[39m] \u001b[38;5;241m=\u001b[39m is_stationary \u001b[38;5;129;01mand\u001b[39;00m \u001b[38;5;129;01mnot\u001b[39;00m stats[\u001b[38;5;124m\"\u001b[39m\u001b[38;5;124mseasonal\u001b[39m\u001b[38;5;124m\"\u001b[39m]\n",
      "File \u001b[1;32mD:\\Anaconda3\\envs\\data-science\\lib\\site-packages\\ydata_profiling\\model\\pandas\\describe_timeseries_pandas.py:67\u001b[0m, in \u001b[0;36mseasonality_test\u001b[1;34m(series, mad_threshold)\u001b[0m\n\u001b[0;32m     53\u001b[0m \u001b[38;5;124;03m\"\"\"Detect seasonality with FFT\u001b[39;00m\n\u001b[0;32m     54\u001b[0m \n\u001b[0;32m     55\u001b[0m \u001b[38;5;124;03mSource: https://github.com/facebookresearch/Kats/blob/main/kats/detectors/seasonality.py\u001b[39;00m\n\u001b[1;32m   (...)\u001b[0m\n\u001b[0;32m     63\u001b[0m \u001b[38;5;124;03m    FFT Plot with peaks, selected peaks, and outlier boundary line.\u001b[39;00m\n\u001b[0;32m     64\u001b[0m \u001b[38;5;124;03m\"\"\"\u001b[39;00m\n\u001b[0;32m     66\u001b[0m fft \u001b[38;5;241m=\u001b[39m get_fft(series)\n\u001b[1;32m---> 67\u001b[0m _, _, peaks \u001b[38;5;241m=\u001b[39m \u001b[43mget_fft_peaks\u001b[49m\u001b[43m(\u001b[49m\u001b[43mfft\u001b[49m\u001b[43m,\u001b[49m\u001b[43m \u001b[49m\u001b[43mmad_threshold\u001b[49m\u001b[43m)\u001b[49m\n\u001b[0;32m     68\u001b[0m seasonality_presence \u001b[38;5;241m=\u001b[39m \u001b[38;5;28mlen\u001b[39m(peaks\u001b[38;5;241m.\u001b[39mindex) \u001b[38;5;241m>\u001b[39m \u001b[38;5;241m0\u001b[39m\n\u001b[0;32m     69\u001b[0m selected_seasonalities \u001b[38;5;241m=\u001b[39m []\n",
      "File \u001b[1;32mD:\\Anaconda3\\envs\\data-science\\lib\\site-packages\\ydata_profiling\\model\\pandas\\describe_timeseries_pandas.py:117\u001b[0m, in \u001b[0;36mget_fft_peaks\u001b[1;34m(fft, mad_threshold)\u001b[0m\n\u001b[0;32m    115\u001b[0m median \u001b[38;5;241m=\u001b[39m pos_fft[\u001b[38;5;124m\"\u001b[39m\u001b[38;5;124mampl\u001b[39m\u001b[38;5;124m\"\u001b[39m]\u001b[38;5;241m.\u001b[39mmedian()\n\u001b[0;32m    116\u001b[0m pos_fft_above_med \u001b[38;5;241m=\u001b[39m pos_fft[pos_fft[\u001b[38;5;124m\"\u001b[39m\u001b[38;5;124mampl\u001b[39m\u001b[38;5;124m\"\u001b[39m] \u001b[38;5;241m>\u001b[39m median]\n\u001b[1;32m--> 117\u001b[0m mad \u001b[38;5;241m=\u001b[39m \u001b[43mpos_fft_above_med\u001b[49m\u001b[43m[\u001b[49m\u001b[38;5;124;43m\"\u001b[39;49m\u001b[38;5;124;43mampl\u001b[39;49m\u001b[38;5;124;43m\"\u001b[39;49m\u001b[43m]\u001b[49m\u001b[38;5;241;43m.\u001b[39;49m\u001b[43mmad\u001b[49m()\n\u001b[0;32m    119\u001b[0m threshold \u001b[38;5;241m=\u001b[39m median \u001b[38;5;241m+\u001b[39m mad \u001b[38;5;241m*\u001b[39m mad_threshold\n\u001b[0;32m    121\u001b[0m peak_indices \u001b[38;5;241m=\u001b[39m find_peaks(fft[\u001b[38;5;124m\"\u001b[39m\u001b[38;5;124mampl\u001b[39m\u001b[38;5;124m\"\u001b[39m], threshold\u001b[38;5;241m=\u001b[39m\u001b[38;5;241m0.1\u001b[39m)\n",
      "File \u001b[1;32mD:\\Anaconda3\\envs\\data-science\\lib\\site-packages\\pandas\\core\\generic.py:5989\u001b[0m, in \u001b[0;36mNDFrame.__getattr__\u001b[1;34m(self, name)\u001b[0m\n\u001b[0;32m   5982\u001b[0m \u001b[38;5;28;01mif\u001b[39;00m (\n\u001b[0;32m   5983\u001b[0m     name \u001b[38;5;129;01mnot\u001b[39;00m \u001b[38;5;129;01min\u001b[39;00m \u001b[38;5;28mself\u001b[39m\u001b[38;5;241m.\u001b[39m_internal_names_set\n\u001b[0;32m   5984\u001b[0m     \u001b[38;5;129;01mand\u001b[39;00m name \u001b[38;5;129;01mnot\u001b[39;00m \u001b[38;5;129;01min\u001b[39;00m \u001b[38;5;28mself\u001b[39m\u001b[38;5;241m.\u001b[39m_metadata\n\u001b[0;32m   5985\u001b[0m     \u001b[38;5;129;01mand\u001b[39;00m name \u001b[38;5;129;01mnot\u001b[39;00m \u001b[38;5;129;01min\u001b[39;00m \u001b[38;5;28mself\u001b[39m\u001b[38;5;241m.\u001b[39m_accessors\n\u001b[0;32m   5986\u001b[0m     \u001b[38;5;129;01mand\u001b[39;00m \u001b[38;5;28mself\u001b[39m\u001b[38;5;241m.\u001b[39m_info_axis\u001b[38;5;241m.\u001b[39m_can_hold_identifiers_and_holds_name(name)\n\u001b[0;32m   5987\u001b[0m ):\n\u001b[0;32m   5988\u001b[0m     \u001b[38;5;28;01mreturn\u001b[39;00m \u001b[38;5;28mself\u001b[39m[name]\n\u001b[1;32m-> 5989\u001b[0m \u001b[38;5;28;01mreturn\u001b[39;00m \u001b[38;5;28;43mobject\u001b[39;49m\u001b[38;5;241;43m.\u001b[39;49m\u001b[38;5;21;43m__getattribute__\u001b[39;49m\u001b[43m(\u001b[49m\u001b[38;5;28;43mself\u001b[39;49m\u001b[43m,\u001b[49m\u001b[43m \u001b[49m\u001b[43mname\u001b[49m\u001b[43m)\u001b[49m\n",
      "\u001b[1;31mAttributeError\u001b[0m: 'Series' object has no attribute 'mad'"
     ]
    }
   ],
   "source": [
    "# reporte serie de tiempo\n",
    "profile = ProfileReport(data, tsmode=True, sortby = 'Date', title=\"Time-Series EDA\")\n",
    "\n",
    "profile.to_file(\"output_timeseries/report_timeseries.html\")"
   ]
  }
 ],
 "metadata": {
  "kernelspec": {
   "display_name": "Python 3 (ipykernel)",
   "language": "python",
   "name": "python3"
  },
  "language_info": {
   "codemirror_mode": {
    "name": "ipython",
    "version": 3
   },
   "file_extension": ".py",
   "mimetype": "text/x-python",
   "name": "python",
   "nbconvert_exporter": "python",
   "pygments_lexer": "ipython3",
   "version": "3.8.13"
  }
 },
 "nbformat": 4,
 "nbformat_minor": 5
}
