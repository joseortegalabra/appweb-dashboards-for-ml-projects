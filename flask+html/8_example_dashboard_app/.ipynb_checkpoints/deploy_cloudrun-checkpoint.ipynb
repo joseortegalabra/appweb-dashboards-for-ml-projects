{
 "cells": [
  {
   "cell_type": "markdown",
   "id": "6e1ce3c5",
   "metadata": {},
   "source": [
    "## Upload artifact registry\n",
    "Estos códigos se podrían correr en la consola SDK de google, así como correrlos en un notebook.\n",
    "Para un data scientist poco especializado en prácticas de devops, utilizar un notebook es más inuitivo de utilizar\n",
    "\n",
    "##### Pasos previos\n",
    "- Pararse en la carpeta root de la app (crear este notebook en el root)\n",
    "- Tener creados scripts a contenizar y subirse a cloud run\n",
    "\n",
    "\n",
    "revisar este punto\n",
    "- Crear Dockerfile en el root (un ejemplo de Dockerfile se puede encontrar en: https://firebase.google.com/docs/hosting/cloud-run?hl=es-419#python)"
   ]
  },
  {
   "cell_type": "markdown",
   "id": "666f36e8",
   "metadata": {},
   "source": [
    "##### Estructura Notebook Deploy app web\n",
    "Existen dos métodos para hacer el deploy, almacenar la imagen docker en artifact registry (forma actual) y almacenar la imagen en container registry (forma antigua y cada vez más deprecated). En este Notebook por ser el primer y el de ejemplo se va a hacer el deploy de ambas formas primero en artifact registry y posteriormente en container registry"
   ]
  },
  {
   "cell_type": "code",
   "execution_count": null,
   "id": "837c5998",
   "metadata": {},
   "outputs": [],
   "source": []
  },
  {
   "cell_type": "code",
   "execution_count": null,
   "id": "646304fb",
   "metadata": {},
   "outputs": [],
   "source": []
  },
  {
   "cell_type": "markdown",
   "id": "0bf9ae26",
   "metadata": {},
   "source": [
    "## INICIALIZAR: SET PROYECT GCP\n",
    "\n",
    "**Para correr comando de consola en un jupyter notebook y que además se le puedan pasar variables del notebook al comando se debe utilizar el signo peso ($) y no utilizar el comando de asignación (=)**"
   ]
  },
  {
   "cell_type": "code",
   "execution_count": 1,
   "id": "0f6518dd",
   "metadata": {},
   "outputs": [
    {
     "name": "stderr",
     "output_type": "stream",
     "text": [
      "Updated property [core/project].\n"
     ]
    }
   ],
   "source": [
    "PROJECT_ID = 'cmpc-innovation-cd4ml-test'\n",
    "REGION = 'us-east1'\n",
    "! gcloud config set project $PROJECT_ID"
   ]
  },
  {
   "cell_type": "code",
   "execution_count": null,
   "id": "c7e91a05",
   "metadata": {},
   "outputs": [],
   "source": []
  },
  {
   "cell_type": "code",
   "execution_count": null,
   "id": "e0591b9d",
   "metadata": {},
   "outputs": [],
   "source": []
  },
  {
   "cell_type": "markdown",
   "id": "62e1c63e",
   "metadata": {},
   "source": [
    "## ------- ARTIFACT REGISTRY -------"
   ]
  },
  {
   "cell_type": "markdown",
   "id": "0fd2ce87",
   "metadata": {},
   "source": [
    "Artifact registry es el reemplazo de container registry y el recomendado por google. La única diferencia es que se guarda la imagen en este nuevo servicio y se necesita correr otros comando\n",
    "\n",
    "\n",
    "Además, cada vez que se sube una imagen nueva a artifact registry (volver a ejecutar el comando correspondiente de gcloud), esta recibe la etiqueta latest y es la que se utiliza para crear/actualizar la cloud run creada\n",
    "\n",
    "Subir la imagen a artifact Registry requiere más pasos que subirla a container registry\n",
    "\n",
    "Documentación integración cloud build con Artifact Registry: https://cloud.google.com/artifact-registry/docs/configure-cloud-build?hl=es-419"
   ]
  },
  {
   "cell_type": "code",
   "execution_count": null,
   "id": "eb1b6f98",
   "metadata": {},
   "outputs": [],
   "source": []
  },
  {
   "cell_type": "markdown",
   "id": "6c45b9db",
   "metadata": {},
   "source": [
    "### Paso 0: Parámetros"
   ]
  },
  {
   "cell_type": "code",
   "execution_count": 2,
   "id": "03167e8a",
   "metadata": {},
   "outputs": [],
   "source": [
    "# PARÁMETROS \n",
    "\n",
    "# generales gcp\n",
    "PROJECT_ID = 'cmpc-innovation-cd4ml-test'\n",
    "REGION = 'us-east1'\n",
    "\n",
    "# nombre del repo\n",
    "NAME_REPO = 'repo-app-template-front-flask-html'\n",
    "FORMAT_REPO = 'docker'\n",
    "DESCRIPTION_REPO = \"repo app web para hacer un front customizado con flask + html\"\n",
    "\n",
    "# nombre de la imagen\n",
    "NAME_IMAGE = 'app-template-front-flask-html'\n",
    "\n",
    "# nombre del cloud run que va a alojar la app web\n",
    "NAME_CLOUD_RUN = 'app-template-front-flask-html'"
   ]
  },
  {
   "cell_type": "code",
   "execution_count": null,
   "id": "421fc138",
   "metadata": {},
   "outputs": [],
   "source": []
  },
  {
   "cell_type": "markdown",
   "id": "5526c44e",
   "metadata": {},
   "source": [
    "### Paso 1. Crear repositorio en artifact registry (si es que este no existe)\n",
    "A diferencia de container registry que era automática, en artifact registry hay que crearlo.\n",
    "\n",
    "En container registry solo se creaba una imagen y se almacenaban diferentes versiones de la imagen, por el contrario en artifact registry se crea un repo el cual puede tener múltiples imágenes y cada una tener diferentes versiones\n",
    "\n",
    "\n",
    "Documentación: crear repo en artifact registry: https://cloud.google.com/artifact-registry/docs/repositories/create-repos#gcloud"
   ]
  },
  {
   "cell_type": "code",
   "execution_count": 3,
   "id": "ceae1f29",
   "metadata": {},
   "outputs": [
    {
     "name": "stderr",
     "output_type": "stream",
     "text": [
      "ERROR: (gcloud.artifacts.repositories.create) INVALID_ARGUMENT: Maven config is not supported for format \"DOCKER\"\n"
     ]
    }
   ],
   "source": [
    "# crear repo\n",
    "! gcloud artifacts repositories create $NAME_REPO \\\n",
    "--repository-format $FORMAT_REPO \\\n",
    "--location $REGION \\\n",
    "--description \"$DESCRIPTION_REPO\" \\\n",
    "--async"
   ]
  },
  {
   "cell_type": "code",
   "execution_count": null,
   "id": "d8ab2428",
   "metadata": {},
   "outputs": [],
   "source": []
  },
  {
   "cell_type": "markdown",
   "id": "b2f594f3",
   "metadata": {},
   "source": [
    "### Paso 2: Configurar una compilación de Docker\n",
    "\n",
    "Es necesario crear un **yaml** con la configuración para compilar la imagen docker en Artifact Registry.\n",
    "\n",
    "Tiene la siguiente forma\n",
    "\n",
    "<code>\n",
    "steps:\n",
    "- name: 'gcr.io/cloud-builders/docker'\n",
    "  args: [ 'build', '-t', '${_LOCATION}-docker.pkg.dev/$PROJECT_ID/${_REPOSITORY}/${_IMAGE}', '.' ]\n",
    "images:\n",
    "- '${_LOCATION}-docker.pkg.dev/$PROJECT_ID/${_REPOSITORY}/${_IMAGE}'\n",
    "<code>\n",
    "    \n",
    "\n",
    "**Este un ARCHIVO GENÉRICO que se puede reciclar porque está parametrizado para funcionar con cualquier repo docker en artifact registry** "
   ]
  },
  {
   "cell_type": "markdown",
   "id": "3f13b0ae",
   "metadata": {},
   "source": [
    "--> Corriendo la siguiente línea de código se crea un archivo yaml con la configuración deseada. \n",
    "\n",
    "Documentación: https://stackabuse.com/reading-and-writing-yaml-to-a-file-in-python/"
   ]
  },
  {
   "cell_type": "code",
   "execution_count": 4,
   "id": "e8516214",
   "metadata": {},
   "outputs": [],
   "source": [
    "import yaml"
   ]
  },
  {
   "cell_type": "code",
   "execution_count": 5,
   "id": "98471485",
   "metadata": {},
   "outputs": [],
   "source": [
    "# crear diccionario python con el contenido del yaml cloudbuild genérico\n",
    "\n",
    "dict_python_yaml_cloudbuild = {'steps': [{'name': 'gcr.io/cloud-builders/docker',\n",
    "   'args': ['build', '-t', '${_LOCATION}-docker.pkg.dev/$PROJECT_ID/${_REPOSITORY}/${_IMAGE}', '.']}],\n",
    " 'images': ['${_LOCATION}-docker.pkg.dev/$PROJECT_ID/${_REPOSITORY}/${_IMAGE}']}"
   ]
  },
  {
   "cell_type": "code",
   "execution_count": 6,
   "id": "0cf1a369",
   "metadata": {},
   "outputs": [],
   "source": [
    "# guardar diccionario en formato yaml\n",
    "\n",
    "with open(r'cloudbuild.yaml', 'w') as file:\n",
    "    documents = yaml.dump(dict_python_yaml_cloudbuild, file)"
   ]
  },
  {
   "cell_type": "code",
   "execution_count": null,
   "id": "a72e475e",
   "metadata": {},
   "outputs": [],
   "source": []
  },
  {
   "cell_type": "markdown",
   "id": "1b267e53",
   "metadata": {},
   "source": [
    "### Paso 3. Crear Dockerfile\n",
    "\n",
    "Igual que el paso anterior, se necesita crear en este caso, el Dockerfile para poder subir la imagen al Artifact Registry. Por lo general, el dockerfile, se crea de forma manual.\n",
    "\n",
    "En este ejemplo, se define el contenido del dockerfile dentro de un string lo que permite que en un futuro se pueda cambiar vía código por ejemplo:\n",
    "- versión de python\n",
    "- Listado de archivos que van a formar parte de la imagen\n",
    "- Librerías que necesita la imagen para funcionar\n",
    "\n",
    "Por lo general, la mayoría de las veces, el Dockerfile no necesita ser modificado salvo que se desee cambiar la versión de python o que se requiera agregar nuevas librerías en el desarrollo. Por lo que corriendo el sgte código se obtiene el Dockerfile de la app web\n",
    "\n",
    "https://prnt.sc/uwBOFChK8QU8"
   ]
  },
  {
   "cell_type": "code",
   "execution_count": 7,
   "id": "ed0e2f4d",
   "metadata": {},
   "outputs": [],
   "source": [
    "# crear string que representa al dockerfile\n",
    "\n",
    "string_dockerfile = '''FROM python:3.7.12-slim-buster\n",
    "ENV PYTHONUNBUFFERED True\n",
    "\n",
    "# Copy local code to the container image.\n",
    "ENV APP_HOME /app\n",
    "WORKDIR $APP_HOME\n",
    "COPY . ./\n",
    "\n",
    "# Install production dependencies.\n",
    "RUN pip install Flask gunicorn pandas numpy plotly google-cloud-bigquery db-dtypes \n",
    "\n",
    "CMD exec gunicorn --bind :$PORT --workers 1 --threads 8 --timeout 0 app:app\n",
    "'''"
   ]
  },
  {
   "cell_type": "code",
   "execution_count": 8,
   "id": "edc57cc1",
   "metadata": {},
   "outputs": [],
   "source": [
    "# guardar dockerfile\n",
    "with open('Dockerfile', 'w') as file:\n",
    "    file.write(string_dockerfile)"
   ]
  },
  {
   "cell_type": "code",
   "execution_count": null,
   "id": "c63b43e1",
   "metadata": {},
   "outputs": [],
   "source": []
  },
  {
   "cell_type": "code",
   "execution_count": null,
   "id": "15903a17",
   "metadata": {},
   "outputs": [],
   "source": []
  },
  {
   "cell_type": "markdown",
   "id": "ba335ac5",
   "metadata": {},
   "source": [
    "### Paso 4: Contenerizar (imagen docker) códigos app web utlizando cloud build y subirlas a artifact registry\n",
    "- En este paso se crea una imagen docker con los códigos necesarios para la app web y posterior se procede a subir dicha imagen a Artifact Registry (utilizando como base el archivo \"cloudbuild.yaml\" que llama al \"Dockerfile\", creados en los pasos anteriores)"
   ]
  },
  {
   "cell_type": "code",
   "execution_count": 9,
   "id": "1f993074",
   "metadata": {},
   "outputs": [
    {
     "name": "stdout",
     "output_type": "stream",
     "text": [
      "----------------------------- REMOTE BUILD OUTPUT ------------------------------\n",
      "starting build \"c38124e2-6234-456b-8693-3ed69fa7ccae\"\n",
      "\n",
      "FETCHSOURCE\n",
      "Fetching storage object: gs://cmpc-innovation-cd4ml-test_cloudbuild/source/1684515041.173869-ff6ec5e540164559a2cabcc1881025ac.tgz#1684515045204109\n",
      "Copying gs://cmpc-innovation-cd4ml-test_cloudbuild/source/1684515041.173869-ff6ec5e540164559a2cabcc1881025ac.tgz#1684515045204109...\n",
      "/ [0 files][    0.0 B/  2.2 MiB]                                                \n",
      "/ [1 files][  2.2 MiB/  2.2 MiB]                                                \n",
      "\n",
      "Operation completed over 1 objects/2.2 MiB.\n",
      "BUILD\n",
      "Already have image (with digest): gcr.io/cloud-builders/docker\n",
      "Sending build context to Docker daemon  7.688MB\n",
      "\n",
      "\n",
      "Step 1/7 : FROM python:3.7.12-slim-buster\n",
      "3.7.12-slim-buster: Pulling from library/python\n",
      "15115158dd02: Pulling fs layer\n",
      "4d445d10bda3: Pulling fs layer\n",
      "8f0ddad46ba4: Pulling fs layer\n",
      "7203f3e1b87f: Pulling fs layer\n",
      "d7a9c33e1cfb: Pulling fs layer\n",
      "7203f3e1b87f: Waiting\n",
      "d7a9c33e1cfb: Waiting\n",
      "4d445d10bda3: Verifying Checksum\n",
      "4d445d10bda3: Download complete\n",
      "8f0ddad46ba4: Verifying Checksum\n",
      "8f0ddad46ba4: Download complete\n",
      "15115158dd02: Verifying Checksum\n",
      "15115158dd02: Download complete\n",
      "7203f3e1b87f: Verifying Checksum\n",
      "7203f3e1b87f: Download complete\n",
      "d7a9c33e1cfb: Verifying Checksum\n",
      "d7a9c33e1cfb: Download complete\n",
      "15115158dd02: Pull complete\n",
      "4d445d10bda3: Pull complete\n",
      "8f0ddad46ba4: Pull complete\n",
      "7203f3e1b87f: Pull complete\n",
      "d7a9c33e1cfb: Pull complete\n",
      "Digest: sha256:9bb8bd9dae64762f8689e538e3251022d2a86201d6198e4f99b230fc4b5b6fc8\n",
      "Status: Downloaded newer image for python:3.7.12-slim-buster\n",
      " ---> 96e87e64a6d2\n",
      "Step 2/7 : ENV PYTHONUNBUFFERED True\n",
      " ---> Running in bfacf84165a3\n",
      "Removing intermediate container bfacf84165a3\n",
      " ---> 4f11c855631e\n",
      "Step 3/7 : ENV APP_HOME /app\n",
      " ---> Running in bb6c7b2460ed\n",
      "Removing intermediate container bb6c7b2460ed\n",
      " ---> 4102f054a37c\n",
      "Step 4/7 : WORKDIR $APP_HOME\n",
      " ---> Running in f02853b2193e\n",
      "Removing intermediate container f02853b2193e\n",
      " ---> 089318c01bf1\n",
      "Step 5/7 : COPY . ./\n",
      " ---> 73771583a665\n",
      "Step 6/7 : RUN pip install Flask gunicorn pandas numpy plotly google-cloud-bigquery db-dtypes\n",
      " ---> Running in fee8f3275239\n",
      "Collecting Flask\n",
      "  Downloading Flask-2.2.5-py3-none-any.whl (101 kB)\n",
      "Collecting gunicorn\n",
      "  Downloading gunicorn-20.1.0-py3-none-any.whl (79 kB)\n",
      "Collecting pandas\n",
      "  Downloading pandas-1.3.5-cp37-cp37m-manylinux_2_17_x86_64.manylinux2014_x86_64.whl (11.3 MB)\n",
      "Collecting numpy\n",
      "  Downloading numpy-1.21.6-cp37-cp37m-manylinux_2_12_x86_64.manylinux2010_x86_64.whl (15.7 MB)\n",
      "Collecting plotly\n",
      "  Downloading plotly-5.14.1-py2.py3-none-any.whl (15.3 MB)\n",
      "Collecting google-cloud-bigquery\n",
      "  Downloading google_cloud_bigquery-3.10.0-py2.py3-none-any.whl (218 kB)\n",
      "Collecting db-dtypes\n",
      "  Downloading db_dtypes-1.1.1-py2.py3-none-any.whl (14 kB)\n",
      "Collecting Werkzeug>=2.2.2\n",
      "  Downloading Werkzeug-2.2.3-py3-none-any.whl (233 kB)\n",
      "Collecting click>=8.0\n",
      "  Downloading click-8.1.3-py3-none-any.whl (96 kB)\n",
      "Collecting itsdangerous>=2.0\n",
      "  Downloading itsdangerous-2.1.2-py3-none-any.whl (15 kB)\n",
      "Collecting Jinja2>=3.0\n",
      "  Downloading Jinja2-3.1.2-py3-none-any.whl (133 kB)\n",
      "Collecting importlib-metadata>=3.6.0\n",
      "  Downloading importlib_metadata-6.6.0-py3-none-any.whl (22 kB)\n",
      "Requirement already satisfied: setuptools>=3.0 in /usr/local/lib/python3.7/site-packages (from gunicorn) (57.5.0)\n",
      "Collecting python-dateutil>=2.7.3\n",
      "  Downloading python_dateutil-2.8.2-py2.py3-none-any.whl (247 kB)\n",
      "Collecting pytz>=2017.3\n",
      "  Downloading pytz-2023.3-py2.py3-none-any.whl (502 kB)\n",
      "Collecting packaging\n",
      "  Downloading packaging-23.1-py3-none-any.whl (48 kB)\n",
      "Collecting tenacity>=6.2.0\n",
      "  Downloading tenacity-8.2.2-py3-none-any.whl (24 kB)\n",
      "Collecting proto-plus<2.0.0dev,>=1.15.0\n",
      "  Downloading proto_plus-1.22.2-py3-none-any.whl (47 kB)\n",
      "Collecting google-resumable-media<3.0dev,>=0.6.0\n",
      "  Downloading google_resumable_media-2.5.0-py2.py3-none-any.whl (77 kB)\n",
      "Collecting grpcio<2.0dev,>=1.47.0\n",
      "  Downloading grpcio-1.54.2-cp37-cp37m-manylinux_2_17_x86_64.manylinux2014_x86_64.whl (5.1 MB)\n",
      "Collecting google-api-core[grpc]!=2.0.*,!=2.1.*,!=2.2.*,!=2.3.0,<3.0.0dev,>=1.31.5\n",
      "  Downloading google_api_core-2.11.0-py3-none-any.whl (120 kB)\n",
      "Collecting protobuf!=3.20.0,!=3.20.1,!=4.21.0,!=4.21.1,!=4.21.2,!=4.21.3,!=4.21.4,!=4.21.5,<5.0.0dev,>=3.19.5\n",
      "  Downloading protobuf-4.23.1-cp37-abi3-manylinux2014_x86_64.whl (304 kB)\n",
      "Collecting google-cloud-core<3.0.0dev,>=1.6.0\n",
      "  Downloading google_cloud_core-2.3.2-py2.py3-none-any.whl (29 kB)\n",
      "Collecting requests<3.0.0dev,>=2.21.0\n",
      "  Downloading requests-2.30.0-py3-none-any.whl (62 kB)\n",
      "Collecting pyarrow>=3.0.0\n",
      "  Downloading pyarrow-12.0.0-cp37-cp37m-manylinux_2_17_x86_64.manylinux2014_x86_64.whl (39.1 MB)\n",
      "Collecting google-auth<3.0dev,>=2.14.1\n",
      "  Downloading google_auth-2.18.1-py2.py3-none-any.whl (178 kB)\n",
      "Collecting googleapis-common-protos<2.0dev,>=1.56.2\n",
      "  Downloading googleapis_common_protos-1.59.0-py2.py3-none-any.whl (223 kB)\n",
      "Collecting grpcio-status<2.0dev,>=1.33.2\n",
      "  Downloading grpcio_status-1.54.2-py3-none-any.whl (5.1 kB)\n",
      "Collecting pyasn1-modules>=0.2.1\n",
      "  Downloading pyasn1_modules-0.3.0-py2.py3-none-any.whl (181 kB)\n",
      "Collecting cachetools<6.0,>=2.0.0\n",
      "  Downloading cachetools-5.3.0-py3-none-any.whl (9.3 kB)\n",
      "Collecting urllib3<2.0\n",
      "  Downloading urllib3-1.26.15-py2.py3-none-any.whl (140 kB)\n",
      "Collecting six>=1.9.0\n",
      "  Downloading six-1.16.0-py2.py3-none-any.whl (11 kB)\n",
      "Collecting rsa<5,>=3.1.4\n",
      "  Downloading rsa-4.9-py3-none-any.whl (34 kB)\n",
      "Collecting google-crc32c<2.0dev,>=1.0\n",
      "  Downloading google_crc32c-1.5.0-cp37-cp37m-manylinux_2_17_x86_64.manylinux2014_x86_64.whl (32 kB)\n",
      "Collecting typing-extensions>=3.6.4\n",
      "  Downloading typing_extensions-4.5.0-py3-none-any.whl (27 kB)\n",
      "Collecting zipp>=0.5\n",
      "  Downloading zipp-3.15.0-py3-none-any.whl (6.8 kB)\n",
      "Collecting MarkupSafe>=2.0\n",
      "  Downloading MarkupSafe-2.1.2-cp37-cp37m-manylinux_2_17_x86_64.manylinux2014_x86_64.whl (25 kB)\n",
      "Collecting pyasn1<0.6.0,>=0.4.6\n",
      "  Downloading pyasn1-0.5.0-py2.py3-none-any.whl (83 kB)\n",
      "Collecting certifi>=2017.4.17\n",
      "  Downloading certifi-2023.5.7-py3-none-any.whl (156 kB)\n",
      "Collecting idna<4,>=2.5\n",
      "  Downloading idna-3.4-py3-none-any.whl (61 kB)\n",
      "Collecting charset-normalizer<4,>=2\n",
      "  Downloading charset_normalizer-3.1.0-cp37-cp37m-manylinux_2_17_x86_64.manylinux2014_x86_64.whl (171 kB)\n",
      "Installing collected packages: pyasn1, urllib3, six, rsa, pyasn1-modules, protobuf, idna, charset-normalizer, certifi, cachetools, zipp, typing-extensions, requests, grpcio, googleapis-common-protos, google-auth, pytz, python-dateutil, numpy, MarkupSafe, importlib-metadata, grpcio-status, google-crc32c, google-api-core, Werkzeug, tenacity, pyarrow, proto-plus, pandas, packaging, Jinja2, itsdangerous, google-resumable-media, google-cloud-core, click, plotly, gunicorn, google-cloud-bigquery, Flask, db-dtypes\n",
      "Successfully installed Flask-2.2.5 Jinja2-3.1.2 MarkupSafe-2.1.2 Werkzeug-2.2.3 cachetools-5.3.0 certifi-2023.5.7 charset-normalizer-3.1.0 click-8.1.3 db-dtypes-1.1.1 google-api-core-2.11.0 google-auth-2.18.1 google-cloud-bigquery-3.10.0 google-cloud-core-2.3.2 google-crc32c-1.5.0 google-resumable-media-2.5.0 googleapis-common-protos-1.59.0 grpcio-1.54.2 grpcio-status-1.54.2 gunicorn-20.1.0 idna-3.4 importlib-metadata-6.6.0 itsdangerous-2.1.2 numpy-1.21.6 packaging-23.1 pandas-1.3.5 plotly-5.14.1 proto-plus-1.22.2 protobuf-4.23.1 pyarrow-12.0.0 pyasn1-0.5.0 pyasn1-modules-0.3.0 python-dateutil-2.8.2 pytz-2023.3 requests-2.30.0 rsa-4.9 six-1.16.0 tenacity-8.2.2 typing-extensions-4.5.0 urllib3-1.26.15 zipp-3.15.0\n",
      "\u001b[91mWARNING: Running pip as the 'root' user can result in broken permissions and conflicting behaviour with the system package manager. It is recommended to use a virtual environment instead: https://pip.pypa.io/warnings/venv\n",
      "\u001b[0m\u001b[91mWARNING: You are using pip version 21.2.4; however, version 23.1.2 is available.\n",
      "You should consider upgrading via the '/usr/local/bin/python -m pip install --upgrade pip' command.\n",
      "\u001b[0mRemoving intermediate container fee8f3275239\n",
      " ---> bfe66ace58e8\n",
      "Step 7/7 : CMD exec gunicorn --bind :$PORT --workers 1 --threads 8 --timeout 0 app:app\n",
      " ---> Running in cd6e341c4352\n",
      "Removing intermediate container cd6e341c4352\n",
      " ---> d1151805901f\n",
      "Successfully built d1151805901f\n",
      "Successfully tagged us-east1-docker.pkg.dev/cmpc-innovation-cd4ml-test/repo-app-template-front-flask-html/app-template-front-flask-html:latest\n",
      "PUSH\n",
      "Pushing us-east1-docker.pkg.dev/cmpc-innovation-cd4ml-test/repo-app-template-front-flask-html/app-template-front-flask-html\n",
      "The push refers to repository [us-east1-docker.pkg.dev/cmpc-innovation-cd4ml-test/repo-app-template-front-flask-html/app-template-front-flask-html]\n",
      "0053da7f6d27: Preparing\n",
      "869a17f88798: Preparing\n",
      "5d3cd0afa341: Preparing\n",
      "0c3ae7400e10: Preparing\n",
      "6595ca2fc837: Preparing\n",
      "4111394747c3: Preparing\n",
      "5d5d684babe6: Preparing\n",
      "e5baccb54724: Preparing\n",
      "4111394747c3: Waiting\n",
      "5d5d684babe6: Waiting\n",
      "e5baccb54724: Waiting\n",
      "0c3ae7400e10: Layer already exists\n",
      "6595ca2fc837: Layer already exists\n",
      "4111394747c3: Layer already exists\n",
      "5d5d684babe6: Layer already exists\n",
      "e5baccb54724: Layer already exists\n",
      "5d3cd0afa341: Pushed\n",
      "869a17f88798: Pushed\n",
      "0053da7f6d27: Pushed\n",
      "latest: digest: sha256:e308fde926246d38ac293e61675bdfe7adccf9cd53d806d86afcc923f0e40de0 size: 2001\n",
      "DONE\n",
      "--------------------------------------------------------------------------------\n",
      "ID                                    CREATE_TIME                DURATION  SOURCE                                                                                                    IMAGES                                                                                                                         STATUS\n",
      "c38124e2-6234-456b-8693-3ed69fa7ccae  2023-05-19T16:50:46+00:00  1M38S     gs://cmpc-innovation-cd4ml-test_cloudbuild/source/1684515041.173869-ff6ec5e540164559a2cabcc1881025ac.tgz  us-east1-docker.pkg.dev/cmpc-innovation-cd4ml-test/repo-app-template-front-flask-html/app-template-front-flask-html (+1 more)  SUCCESS\n"
     ]
    },
    {
     "name": "stderr",
     "output_type": "stream",
     "text": [
      "Creating temporary tarball archive of 13 file(s) totalling 7.3 MiB before compression.\n",
      "Uploading tarball of [.] to [gs://cmpc-innovation-cd4ml-test_cloudbuild/source/1684515041.173869-ff6ec5e540164559a2cabcc1881025ac.tgz]\n",
      "Created [https://cloudbuild.googleapis.com/v1/projects/cmpc-innovation-cd4ml-test/locations/global/builds/c38124e2-6234-456b-8693-3ed69fa7ccae].\n",
      "Logs are available at [https://console.cloud.google.com/cloud-build/builds/c38124e2-6234-456b-8693-3ed69fa7ccae?project=724348686027].\n"
     ]
    }
   ],
   "source": [
    "# OJO: Los nombres de las variables en el comando gcloud corresponden a las variables definidas en el archivo de configuración \n",
    "# yaml\n",
    "\n",
    "# OJO2: para pasar el nombre de las variables (al igual que siempre) se debe de utilizar el signo dolar \"$\" pero debe\n",
    "# de estar entre comillas (para que se entienda que es la variable a reemplazar en el yaml de configuración)\n",
    "\n",
    "# OJO3: debe ser comillas dobles y sin espacios para no tener problemas\n",
    "\n",
    "! gcloud builds submit \\\n",
    "    --config=cloudbuild.yaml \\\n",
    "    --substitutions=_LOCATION=\"$REGION\",_REPOSITORY=\"$NAME_REPO\",_IMAGE=\"$NAME_IMAGE\" ."
   ]
  },
  {
   "cell_type": "code",
   "execution_count": null,
   "id": "7009598b",
   "metadata": {},
   "outputs": [],
   "source": []
  },
  {
   "cell_type": "markdown",
   "id": "28fba7d5",
   "metadata": {},
   "source": [
    "### Paso 5:  Deploy de la imagen del contenedor de artifact registry en cloud run\n",
    "Se debe de correr el comando gloud run deploy (igual que en el container registry) con la única diferencia en que cambia la ubicación de la imagen la cual es:\n",
    "\n",
    " {LOCATION}-docker.pkg.dev/{PROJECT}/{REPOSITORY}/{IMAGE}/\n",
    " \n",
    " \n",
    "\n",
    "**IMPORTANTE: POR PROBLEMAS DE PERMISOS, EL CLOUD RUN ESTÁ CONFIGURADO PARA QUE CUALQUIERA CON EL LINK PUEDA ACCEDER**"
   ]
  },
  {
   "cell_type": "markdown",
   "id": "c7dbce96",
   "metadata": {},
   "source": [
    "#### Importante: está hardcodeado el timeout y la memoria"
   ]
  },
  {
   "cell_type": "code",
   "execution_count": 10,
   "id": "40f4016e",
   "metadata": {
    "scrolled": true
   },
   "outputs": [
    {
     "name": "stderr",
     "output_type": "stream",
     "text": [
      "Deploying container to Cloud Run service [app-template-front-flask-html] in project [cmpc-innovation-cd4ml-test] region [us-east1]\n",
      "Deploying...\n",
      "Setting IAM Policy..............................done\n",
      "Creating Revision............................................................................................................................................................................................................................................................................................done\n",
      "Routing traffic........................................................done\n",
      "Done.\n",
      "Service [app-template-front-flask-html] revision [app-template-front-flask-html-00004-taj] has been deployed and is serving 100 percent of traffic.\n",
      "Service URL: https://app-template-front-flask-html-z33tzzez7a-ue.a.run.app\n"
     ]
    }
   ],
   "source": [
    "! gcloud run deploy $NAME_CLOUD_RUN \\\n",
    "    --image $REGION-docker.pkg.dev/$PROJECT_ID/$NAME_REPO/$NAME_IMAGE \\\n",
    "    --region $REGION \\\n",
    "    --timeout=600 \\\n",
    "    --memory 4Gi \\\n",
    "    --allow-unauthenticated"
   ]
  },
  {
   "cell_type": "code",
   "execution_count": null,
   "id": "d5885bc8",
   "metadata": {},
   "outputs": [],
   "source": []
  },
  {
   "cell_type": "code",
   "execution_count": null,
   "id": "4984c83e",
   "metadata": {},
   "outputs": [],
   "source": []
  }
 ],
 "metadata": {
  "kernelspec": {
   "display_name": "Python 3 (ipykernel)",
   "language": "python",
   "name": "python3"
  },
  "language_info": {
   "codemirror_mode": {
    "name": "ipython",
    "version": 3
   },
   "file_extension": ".py",
   "mimetype": "text/x-python",
   "name": "python",
   "nbconvert_exporter": "python",
   "pygments_lexer": "ipython3",
   "version": "3.7.12"
  }
 },
 "nbformat": 4,
 "nbformat_minor": 5
}
